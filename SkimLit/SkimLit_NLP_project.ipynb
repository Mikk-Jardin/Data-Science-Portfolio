{
 "cells": [
  {
   "cell_type": "markdown",
   "id": "following-tribute",
   "metadata": {},
   "source": [
    "# SkimLit NLP Project\n",
    "Input: Medical journal's abstracts\n",
    "\n",
    "Outputs: Segmented abstract with different parts labelled (background, objectives, conclusion, etc.) \n",
    "\n",
    "**Paper**:\n",
    "https://arxiv.org/pdf/1710.06071.pdf"
   ]
  },
  {
   "cell_type": "markdown",
   "id": "funded-intro",
   "metadata": {},
   "source": [
    "## Get data\n",
    "Author's GitHUb: https://github.com/Franck-Dernoncourt/pubmed-rct"
   ]
  },
  {
   "cell_type": "code",
   "execution_count": 1,
   "id": "integrated-semester",
   "metadata": {},
   "outputs": [],
   "source": [
    "# Start with 20k dataset with numbers replaced with @\n",
    "data_dir = \"pubmed-rct/PubMed_20k_RCT_numbers_replaced_with_at_sign/\""
   ]
  },
  {
   "cell_type": "code",
   "execution_count": 2,
   "id": "broken-friday",
   "metadata": {},
   "outputs": [
    {
     "data": {
      "text/plain": [
       "['pubmed-rct/PubMed_20k_RCT_numbers_replaced_with_at_sign/dev.txt',\n",
       " 'pubmed-rct/PubMed_20k_RCT_numbers_replaced_with_at_sign/train.txt',\n",
       " 'pubmed-rct/PubMed_20k_RCT_numbers_replaced_with_at_sign/test.txt']"
      ]
     },
     "execution_count": 2,
     "metadata": {},
     "output_type": "execute_result"
    }
   ],
   "source": [
    "# Check file names\n",
    "import os\n",
    "filenames = [data_dir +  filename for filename in os.listdir(data_dir)]\n",
    "filenames"
   ]
  },
  {
   "cell_type": "markdown",
   "id": "homeless-starter",
   "metadata": {},
   "source": [
    "## Preprocess data\n",
    "Convert text data into:\n",
    "```\n",
    "[{'line_number': 0,\n",
    "  'target': 'BACKGROUND',\n",
    "  'text': 'Emotional eating is associated with overeating and the development of obesity .\\n',\n",
    "  'total_lines': 11},\n",
    "  {...}]\n",
    "```"
   ]
  },
  {
   "cell_type": "code",
   "execution_count": 3,
   "id": "saving-canadian",
   "metadata": {},
   "outputs": [],
   "source": [
    "# Create function to read line sof document\n",
    "def get_lines(filename):\n",
    "    \"\"\"\n",
    "    Reads filename (text file) and returns the lines of text as a list.\n",
    "    \n",
    "    Args:\n",
    "        filename (str): the filepath to the target file\n",
    "        \n",
    "    Retruns:\n",
    "        A list of strings with one list per line from the target filename.\n",
    "    \"\"\"\n",
    "    with open(filename, \"r\") as f:\n",
    "        return f.readlines()"
   ]
  },
  {
   "cell_type": "code",
   "execution_count": 4,
   "id": "african-savage",
   "metadata": {},
   "outputs": [
    {
     "data": {
      "text/plain": [
       "['###24293578\\n',\n",
       " 'OBJECTIVE\\tTo investigate the efficacy of @ weeks of daily low-dose oral prednisolone in improving pain , mobility , and systemic low-grade inflammation in the short term and whether the effect would be sustained at @ weeks in older adults with moderate to severe knee osteoarthritis ( OA ) .\\n',\n",
       " 'METHODS\\tA total of @ patients with primary knee OA were randomized @:@ ; @ received @ mg/day of prednisolone and @ received placebo for @ weeks .\\n',\n",
       " 'METHODS\\tOutcome measures included pain reduction and improvement in function scores and systemic inflammation markers .\\n',\n",
       " 'METHODS\\tPain was assessed using the visual analog pain scale ( @-@ mm ) .\\n',\n",
       " 'METHODS\\tSecondary outcome measures included the Western Ontario and McMaster Universities Osteoarthritis Index scores , patient global assessment ( PGA ) of the severity of knee OA , and @-min walk distance ( @MWD ) .\\n',\n",
       " 'METHODS\\tSerum levels of interleukin @ ( IL-@ ) , IL-@ , tumor necrosis factor ( TNF ) - , and high-sensitivity C-reactive protein ( hsCRP ) were measured .\\n',\n",
       " 'RESULTS\\tThere was a clinically relevant reduction in the intervention group compared to the placebo group for knee pain , physical function , PGA , and @MWD at @ weeks .\\n',\n",
       " 'RESULTS\\tThe mean difference between treatment arms ( @ % CI ) was @ ( @-@ @ ) , p < @ ; @ ( @-@ @ ) , p < @ ; @ ( @-@ @ ) , p < @ ; and @ ( @-@ @ ) , p < @ , respectively .\\n',\n",
       " 'RESULTS\\tFurther , there was a clinically relevant reduction in the serum levels of IL-@ , IL-@ , TNF - , and hsCRP at @ weeks in the intervention group when compared to the placebo group .\\n',\n",
       " 'RESULTS\\tThese differences remained significant at @ weeks .\\n',\n",
       " 'RESULTS\\tThe Outcome Measures in Rheumatology Clinical Trials-Osteoarthritis Research Society International responder rate was @ % in the intervention group and @ % in the placebo group ( p < @ ) .\\n',\n",
       " 'CONCLUSIONS\\tLow-dose oral prednisolone had both a short-term and a longer sustained effect resulting in less knee pain , better physical function , and attenuation of systemic inflammation in older patients with knee OA ( ClinicalTrials.gov identifier NCT@ ) .\\n',\n",
       " '\\n',\n",
       " '###24854809\\n',\n",
       " 'BACKGROUND\\tEmotional eating is associated with overeating and the development of obesity .\\n',\n",
       " 'BACKGROUND\\tYet , empirical evidence for individual ( trait ) differences in emotional eating and cognitive mechanisms that contribute to eating during sad mood remain equivocal .\\n',\n",
       " 'OBJECTIVE\\tThe aim of this study was to test if attention bias for food moderates the effect of self-reported emotional eating during sad mood ( vs neutral mood ) on actual food intake .\\n',\n",
       " 'OBJECTIVE\\tIt was expected that emotional eating is predictive of elevated attention for food and higher food intake after an experimentally induced sad mood and that attentional maintenance on food predicts food intake during a sad versus a neutral mood .\\n',\n",
       " 'METHODS\\tParticipants ( N = @ ) were randomly assigned to one of the two experimental mood induction conditions ( sad/neutral ) .\\n']"
      ]
     },
     "execution_count": 4,
     "metadata": {},
     "output_type": "execute_result"
    }
   ],
   "source": [
    "# Read in training lines\n",
    "train_lines = get_lines(data_dir + \"train.txt\")\n",
    "train_lines[:20]"
   ]
  },
  {
   "cell_type": "code",
   "execution_count": 5,
   "id": "worth-messaging",
   "metadata": {},
   "outputs": [],
   "source": [
    "# Create function to preprocess text with line numbers\n",
    "def preprocess_text_with_line_numbers(filename):\n",
    "    \"\"\"\n",
    "    Returns a list of dictionaries of abstract line data.\n",
    "    \n",
    "    Takes in filename, reads its contents and sorts through each line,\n",
    "    extracting things like the target label, the text of the sentence,\n",
    "    how many sentences are in the current abstract and what sentence\n",
    "    number the target line is.\n",
    "    \n",
    "    Args:\n",
    "      filename: a string of the target text file to read and extract line data\n",
    "      from.\n",
    "\n",
    "    Returns:\n",
    "      A list of dictionaries each containing a line from an abstract,\n",
    "      the lines label, the lines position in the abstract and the total number\n",
    "      of lines in the abstract where the line is from. For example:\n",
    "\n",
    "      [{\"target\": 'CONCLUSION',\n",
    "        \"text\": The study couldn't have gone better, turns out people are kinder than you think\",\n",
    "        \"line_number\": 8,\n",
    "        \"total_lines\": 8}]\n",
    "    \"\"\"\n",
    "    input_lines = get_lines(filename) # get all lines from filename\n",
    "    abstract_lines = \"\" # create emppty abstract\n",
    "    abstract_samples = [] # create empty list for abstracts\n",
    "    \n",
    "    # Loop through each line in the target file\n",
    "    for line in input_lines:\n",
    "        if line.startswith(\"###\"): # check to see if line is ID line\n",
    "            abstract_ID = line\n",
    "            abstract_lines = \"\" # reset abstract lines if line is ID\n",
    "            \n",
    "        elif line.isspace(): # check to see if line is new line\n",
    "            abstract_lines_split = abstract_lines.splitlines() # split abstract into separate lines\n",
    "            \n",
    "            # Iterate through each line in singel abstract and count them\n",
    "            for abstract_line_number, abstract_line in enumerate(abstract_lines_split):\n",
    "                line_data = {} # create empty dictionary for line data\n",
    "                target_text_split = abstract_line.split(\"\\t\") # split target label from text\n",
    "                line_data[\"target\"] = target_text_split[0] # get target label\n",
    "                line_data[\"text\"] = target_text_split[1].lower() # get text data and make all lowercase\n",
    "                line_data[\"line_number\"] = abstract_line_number # get line number\n",
    "                line_data[\"total_lines\"] = len(abstract_lines_split) - 1 # total lines in abstract\n",
    "                abstract_samples.append(line_data) # add line data to abstract samples\n",
    "                \n",
    "                \n",
    "        else: # if line is text line\n",
    "            abstract_lines += line\n",
    "            \n",
    "    return abstract_samples"
   ]
  },
  {
   "cell_type": "code",
   "execution_count": 6,
   "id": "mexican-ribbon",
   "metadata": {},
   "outputs": [
    {
     "data": {
      "text/plain": [
       "(180040, 30212, 30135)"
      ]
     },
     "execution_count": 6,
     "metadata": {},
     "output_type": "execute_result"
    }
   ],
   "source": [
    "# Get data from file and preprocess it\n",
    "train_samples = preprocess_text_with_line_numbers(data_dir + \"train.txt\")\n",
    "val_samples = preprocess_text_with_line_numbers(data_dir + \"dev.txt\")\n",
    "test_samples = preprocess_text_with_line_numbers(data_dir + \"test.txt\")\n",
    "len(train_samples), len(val_samples), len(test_samples)"
   ]
  },
  {
   "cell_type": "code",
   "execution_count": 7,
   "id": "intended-father",
   "metadata": {},
   "outputs": [
    {
     "data": {
      "text/plain": [
       "[{'target': 'OBJECTIVE',\n",
       "  'text': 'to investigate the efficacy of @ weeks of daily low-dose oral prednisolone in improving pain , mobility , and systemic low-grade inflammation in the short term and whether the effect would be sustained at @ weeks in older adults with moderate to severe knee osteoarthritis ( oa ) .',\n",
       "  'line_number': 0,\n",
       "  'total_lines': 11},\n",
       " {'target': 'METHODS',\n",
       "  'text': 'a total of @ patients with primary knee oa were randomized @:@ ; @ received @ mg/day of prednisolone and @ received placebo for @ weeks .',\n",
       "  'line_number': 1,\n",
       "  'total_lines': 11},\n",
       " {'target': 'METHODS',\n",
       "  'text': 'outcome measures included pain reduction and improvement in function scores and systemic inflammation markers .',\n",
       "  'line_number': 2,\n",
       "  'total_lines': 11},\n",
       " {'target': 'METHODS',\n",
       "  'text': 'pain was assessed using the visual analog pain scale ( @-@ mm ) .',\n",
       "  'line_number': 3,\n",
       "  'total_lines': 11},\n",
       " {'target': 'METHODS',\n",
       "  'text': 'secondary outcome measures included the western ontario and mcmaster universities osteoarthritis index scores , patient global assessment ( pga ) of the severity of knee oa , and @-min walk distance ( @mwd ) .',\n",
       "  'line_number': 4,\n",
       "  'total_lines': 11},\n",
       " {'target': 'METHODS',\n",
       "  'text': 'serum levels of interleukin @ ( il-@ ) , il-@ , tumor necrosis factor ( tnf ) - , and high-sensitivity c-reactive protein ( hscrp ) were measured .',\n",
       "  'line_number': 5,\n",
       "  'total_lines': 11},\n",
       " {'target': 'RESULTS',\n",
       "  'text': 'there was a clinically relevant reduction in the intervention group compared to the placebo group for knee pain , physical function , pga , and @mwd at @ weeks .',\n",
       "  'line_number': 6,\n",
       "  'total_lines': 11},\n",
       " {'target': 'RESULTS',\n",
       "  'text': 'the mean difference between treatment arms ( @ % ci ) was @ ( @-@ @ ) , p < @ ; @ ( @-@ @ ) , p < @ ; @ ( @-@ @ ) , p < @ ; and @ ( @-@ @ ) , p < @ , respectively .',\n",
       "  'line_number': 7,\n",
       "  'total_lines': 11},\n",
       " {'target': 'RESULTS',\n",
       "  'text': 'further , there was a clinically relevant reduction in the serum levels of il-@ , il-@ , tnf - , and hscrp at @ weeks in the intervention group when compared to the placebo group .',\n",
       "  'line_number': 8,\n",
       "  'total_lines': 11},\n",
       " {'target': 'RESULTS',\n",
       "  'text': 'these differences remained significant at @ weeks .',\n",
       "  'line_number': 9,\n",
       "  'total_lines': 11},\n",
       " {'target': 'RESULTS',\n",
       "  'text': 'the outcome measures in rheumatology clinical trials-osteoarthritis research society international responder rate was @ % in the intervention group and @ % in the placebo group ( p < @ ) .',\n",
       "  'line_number': 10,\n",
       "  'total_lines': 11},\n",
       " {'target': 'CONCLUSIONS',\n",
       "  'text': 'low-dose oral prednisolone had both a short-term and a longer sustained effect resulting in less knee pain , better physical function , and attenuation of systemic inflammation in older patients with knee oa ( clinicaltrials.gov identifier nct@ ) .',\n",
       "  'line_number': 11,\n",
       "  'total_lines': 11},\n",
       " {'target': 'BACKGROUND',\n",
       "  'text': 'emotional eating is associated with overeating and the development of obesity .',\n",
       "  'line_number': 0,\n",
       "  'total_lines': 10},\n",
       " {'target': 'BACKGROUND',\n",
       "  'text': 'yet , empirical evidence for individual ( trait ) differences in emotional eating and cognitive mechanisms that contribute to eating during sad mood remain equivocal .',\n",
       "  'line_number': 1,\n",
       "  'total_lines': 10},\n",
       " {'target': 'OBJECTIVE',\n",
       "  'text': 'the aim of this study was to test if attention bias for food moderates the effect of self-reported emotional eating during sad mood ( vs neutral mood ) on actual food intake .',\n",
       "  'line_number': 2,\n",
       "  'total_lines': 10},\n",
       " {'target': 'OBJECTIVE',\n",
       "  'text': 'it was expected that emotional eating is predictive of elevated attention for food and higher food intake after an experimentally induced sad mood and that attentional maintenance on food predicts food intake during a sad versus a neutral mood .',\n",
       "  'line_number': 3,\n",
       "  'total_lines': 10},\n",
       " {'target': 'METHODS',\n",
       "  'text': 'participants ( n = @ ) were randomly assigned to one of the two experimental mood induction conditions ( sad/neutral ) .',\n",
       "  'line_number': 4,\n",
       "  'total_lines': 10},\n",
       " {'target': 'METHODS',\n",
       "  'text': 'attentional biases for high caloric foods were measured by eye tracking during a visual probe task with pictorial food and neutral stimuli .',\n",
       "  'line_number': 5,\n",
       "  'total_lines': 10},\n",
       " {'target': 'METHODS',\n",
       "  'text': 'self-reported emotional eating was assessed with the dutch eating behavior questionnaire ( debq ) and ad libitum food intake was tested by a disguised food offer .',\n",
       "  'line_number': 6,\n",
       "  'total_lines': 10},\n",
       " {'target': 'RESULTS',\n",
       "  'text': 'hierarchical multivariate regression modeling showed that self-reported emotional eating did not account for changes in attention allocation for food or food intake in either condition .',\n",
       "  'line_number': 7,\n",
       "  'total_lines': 10}]"
      ]
     },
     "execution_count": 7,
     "metadata": {},
     "output_type": "execute_result"
    }
   ],
   "source": [
    "# Check first abstract of training data\n",
    "train_samples[:20]"
   ]
  },
  {
   "cell_type": "code",
   "execution_count": 8,
   "id": "hawaiian-input",
   "metadata": {},
   "outputs": [
    {
     "data": {
      "text/html": [
       "<div>\n",
       "<style scoped>\n",
       "    .dataframe tbody tr th:only-of-type {\n",
       "        vertical-align: middle;\n",
       "    }\n",
       "\n",
       "    .dataframe tbody tr th {\n",
       "        vertical-align: top;\n",
       "    }\n",
       "\n",
       "    .dataframe thead th {\n",
       "        text-align: right;\n",
       "    }\n",
       "</style>\n",
       "<table border=\"1\" class=\"dataframe\">\n",
       "  <thead>\n",
       "    <tr style=\"text-align: right;\">\n",
       "      <th></th>\n",
       "      <th>target</th>\n",
       "      <th>text</th>\n",
       "      <th>line_number</th>\n",
       "      <th>total_lines</th>\n",
       "    </tr>\n",
       "  </thead>\n",
       "  <tbody>\n",
       "    <tr>\n",
       "      <th>0</th>\n",
       "      <td>OBJECTIVE</td>\n",
       "      <td>to investigate the efficacy of @ weeks of dail...</td>\n",
       "      <td>0</td>\n",
       "      <td>11</td>\n",
       "    </tr>\n",
       "    <tr>\n",
       "      <th>1</th>\n",
       "      <td>METHODS</td>\n",
       "      <td>a total of @ patients with primary knee oa wer...</td>\n",
       "      <td>1</td>\n",
       "      <td>11</td>\n",
       "    </tr>\n",
       "    <tr>\n",
       "      <th>2</th>\n",
       "      <td>METHODS</td>\n",
       "      <td>outcome measures included pain reduction and i...</td>\n",
       "      <td>2</td>\n",
       "      <td>11</td>\n",
       "    </tr>\n",
       "    <tr>\n",
       "      <th>3</th>\n",
       "      <td>METHODS</td>\n",
       "      <td>pain was assessed using the visual analog pain...</td>\n",
       "      <td>3</td>\n",
       "      <td>11</td>\n",
       "    </tr>\n",
       "    <tr>\n",
       "      <th>4</th>\n",
       "      <td>METHODS</td>\n",
       "      <td>secondary outcome measures included the wester...</td>\n",
       "      <td>4</td>\n",
       "      <td>11</td>\n",
       "    </tr>\n",
       "    <tr>\n",
       "      <th>5</th>\n",
       "      <td>METHODS</td>\n",
       "      <td>serum levels of interleukin @ ( il-@ ) , il-@ ...</td>\n",
       "      <td>5</td>\n",
       "      <td>11</td>\n",
       "    </tr>\n",
       "    <tr>\n",
       "      <th>6</th>\n",
       "      <td>RESULTS</td>\n",
       "      <td>there was a clinically relevant reduction in t...</td>\n",
       "      <td>6</td>\n",
       "      <td>11</td>\n",
       "    </tr>\n",
       "    <tr>\n",
       "      <th>7</th>\n",
       "      <td>RESULTS</td>\n",
       "      <td>the mean difference between treatment arms ( @...</td>\n",
       "      <td>7</td>\n",
       "      <td>11</td>\n",
       "    </tr>\n",
       "    <tr>\n",
       "      <th>8</th>\n",
       "      <td>RESULTS</td>\n",
       "      <td>further , there was a clinically relevant redu...</td>\n",
       "      <td>8</td>\n",
       "      <td>11</td>\n",
       "    </tr>\n",
       "    <tr>\n",
       "      <th>9</th>\n",
       "      <td>RESULTS</td>\n",
       "      <td>these differences remained significant at @ we...</td>\n",
       "      <td>9</td>\n",
       "      <td>11</td>\n",
       "    </tr>\n",
       "    <tr>\n",
       "      <th>10</th>\n",
       "      <td>RESULTS</td>\n",
       "      <td>the outcome measures in rheumatology clinical ...</td>\n",
       "      <td>10</td>\n",
       "      <td>11</td>\n",
       "    </tr>\n",
       "    <tr>\n",
       "      <th>11</th>\n",
       "      <td>CONCLUSIONS</td>\n",
       "      <td>low-dose oral prednisolone had both a short-te...</td>\n",
       "      <td>11</td>\n",
       "      <td>11</td>\n",
       "    </tr>\n",
       "    <tr>\n",
       "      <th>12</th>\n",
       "      <td>BACKGROUND</td>\n",
       "      <td>emotional eating is associated with overeating...</td>\n",
       "      <td>0</td>\n",
       "      <td>10</td>\n",
       "    </tr>\n",
       "    <tr>\n",
       "      <th>13</th>\n",
       "      <td>BACKGROUND</td>\n",
       "      <td>yet , empirical evidence for individual ( trai...</td>\n",
       "      <td>1</td>\n",
       "      <td>10</td>\n",
       "    </tr>\n",
       "  </tbody>\n",
       "</table>\n",
       "</div>"
      ],
      "text/plain": [
       "         target                                               text  \\\n",
       "0     OBJECTIVE  to investigate the efficacy of @ weeks of dail...   \n",
       "1       METHODS  a total of @ patients with primary knee oa wer...   \n",
       "2       METHODS  outcome measures included pain reduction and i...   \n",
       "3       METHODS  pain was assessed using the visual analog pain...   \n",
       "4       METHODS  secondary outcome measures included the wester...   \n",
       "5       METHODS  serum levels of interleukin @ ( il-@ ) , il-@ ...   \n",
       "6       RESULTS  there was a clinically relevant reduction in t...   \n",
       "7       RESULTS  the mean difference between treatment arms ( @...   \n",
       "8       RESULTS  further , there was a clinically relevant redu...   \n",
       "9       RESULTS  these differences remained significant at @ we...   \n",
       "10      RESULTS  the outcome measures in rheumatology clinical ...   \n",
       "11  CONCLUSIONS  low-dose oral prednisolone had both a short-te...   \n",
       "12   BACKGROUND  emotional eating is associated with overeating...   \n",
       "13   BACKGROUND  yet , empirical evidence for individual ( trai...   \n",
       "\n",
       "    line_number  total_lines  \n",
       "0             0           11  \n",
       "1             1           11  \n",
       "2             2           11  \n",
       "3             3           11  \n",
       "4             4           11  \n",
       "5             5           11  \n",
       "6             6           11  \n",
       "7             7           11  \n",
       "8             8           11  \n",
       "9             9           11  \n",
       "10           10           11  \n",
       "11           11           11  \n",
       "12            0           10  \n",
       "13            1           10  "
      ]
     },
     "execution_count": 8,
     "metadata": {},
     "output_type": "execute_result"
    }
   ],
   "source": [
    "# Create pandas dataframe using samples\n",
    "import pandas as pd\n",
    "train_df = pd.DataFrame(train_samples)\n",
    "val_df = pd.DataFrame(val_samples)\n",
    "test_df = pd.DataFrame(test_samples)\n",
    "train_df.head(14)"
   ]
  },
  {
   "cell_type": "code",
   "execution_count": 9,
   "id": "noticed-eating",
   "metadata": {},
   "outputs": [
    {
     "data": {
      "text/plain": [
       "METHODS        59353\n",
       "RESULTS        57953\n",
       "CONCLUSIONS    27168\n",
       "BACKGROUND     21727\n",
       "OBJECTIVE      13839\n",
       "Name: target, dtype: int64"
      ]
     },
     "execution_count": 9,
     "metadata": {},
     "output_type": "execute_result"
    }
   ],
   "source": [
    "# DIstribution of lables\n",
    "train_df[\"target\"].value_counts()"
   ]
  },
  {
   "cell_type": "code",
   "execution_count": 10,
   "id": "mighty-nicholas",
   "metadata": {},
   "outputs": [
    {
     "data": {
      "image/png": "[encoded data removed]",
      "text/plain": [
       "<Figure size 432x288 with 1 Axes>"
      ]
     },
     "metadata": {
      "needs_background": "light"
     },
     "output_type": "display_data"
    }
   ],
   "source": [
    "# check length of different lines\n",
    "train_df.total_lines.plot.hist();"
   ]
  },
  {
   "cell_type": "code",
   "execution_count": 11,
   "id": "abstract-lying",
   "metadata": {},
   "outputs": [
    {
     "data": {
      "text/plain": [
       "(180040, 30212, 30135)"
      ]
     },
     "execution_count": 11,
     "metadata": {},
     "output_type": "execute_result"
    }
   ],
   "source": [
    "# Convert samples to list\n",
    "train_sentences = train_df[\"text\"].tolist()\n",
    "val_sentences = val_df[\"text\"].tolist()\n",
    "test_sentences = test_df[\"text\"].tolist()\n",
    "len(train_sentences), len(val_sentences), len(test_sentences)"
   ]
  },
  {
   "cell_type": "markdown",
   "id": "residential-ethiopia",
   "metadata": {},
   "source": [
    "## Make Numeric Labels"
   ]
  },
  {
   "cell_type": "code",
   "execution_count": 12,
   "id": "unlikely-church",
   "metadata": {},
   "outputs": [
    {
     "data": {
      "text/plain": [
       "array([[0., 0., 0., 1., 0.],\n",
       "       [0., 0., 1., 0., 0.],\n",
       "       [0., 0., 1., 0., 0.],\n",
       "       [0., 0., 1., 0., 0.],\n",
       "       [0., 0., 1., 0., 0.],\n",
       "       [0., 0., 1., 0., 0.],\n",
       "       [0., 0., 0., 0., 1.],\n",
       "       [0., 0., 0., 0., 1.],\n",
       "       [0., 0., 0., 0., 1.],\n",
       "       [0., 0., 0., 0., 1.]])"
      ]
     },
     "execution_count": 12,
     "metadata": {},
     "output_type": "execute_result"
    }
   ],
   "source": [
    "# One hot encode labels\n",
    "from sklearn.preprocessing import OneHotEncoder\n",
    "one_hot_encoder = OneHotEncoder(sparse=False) # returns array instead of sparse matrix\n",
    "train_labels_one_hot = one_hot_encoder.fit_transform(train_df[\"target\"].to_numpy().reshape(-1, 1))\n",
    "val_labels_one_hot = one_hot_encoder.fit_transform(val_df[\"target\"].to_numpy().reshape(-1, 1))\n",
    "test_labels_one_hot = one_hot_encoder.fit_transform(test_df[\"target\"].to_numpy().reshape(-1, 1))\n",
    "\n",
    "# Check OH labels\n",
    "train_labels_one_hot[:10]"
   ]
  },
  {
   "cell_type": "code",
   "execution_count": 13,
   "id": "similar-guard",
   "metadata": {},
   "outputs": [
    {
     "data": {
      "text/plain": [
       "array([3, 2, 2, ..., 4, 1, 1])"
      ]
     },
     "execution_count": 13,
     "metadata": {},
     "output_type": "execute_result"
    }
   ],
   "source": [
    "# Label encode labels\n",
    "from sklearn.preprocessing import LabelEncoder\n",
    "label_encoder = LabelEncoder()\n",
    "train_labels_encoded = label_encoder.fit_transform(train_df[\"target\"].to_numpy())\n",
    "val_labels_encoded = label_encoder.fit_transform(val_df[\"target\"].to_numpy())\n",
    "test_labels_encoded = label_encoder.fit_transform(test_df[\"target\"].to_numpy())\n",
    "\n",
    "# Check labels\n",
    "train_labels_encoded"
   ]
  },
  {
   "cell_type": "code",
   "execution_count": 14,
   "id": "naked-delay",
   "metadata": {},
   "outputs": [
    {
     "data": {
      "text/plain": [
       "(array(['BACKGROUND', 'CONCLUSIONS', 'METHODS', 'OBJECTIVE', 'RESULTS'],\n",
       "       dtype=object),\n",
       " 5)"
      ]
     },
     "execution_count": 14,
     "metadata": {},
     "output_type": "execute_result"
    }
   ],
   "source": [
    "# Get class names and number of classes from LabelEncoder instance\n",
    "class_names = label_encoder.classes_\n",
    "num_classes = len(label_encoder.classes_)\n",
    "class_names, num_classes"
   ]
  },
  {
   "cell_type": "markdown",
   "id": "baking-customs",
   "metadata": {},
   "source": [
    "## Model 0 (Baseline): Naive-Bayes tfidf"
   ]
  },
  {
   "cell_type": "code",
   "execution_count": 15,
   "id": "seventh-farming",
   "metadata": {},
   "outputs": [],
   "source": [
    "# Create model 0\n",
    "from sklearn.feature_extraction.text import TfidfVectorizer\n",
    "from sklearn.naive_bayes import MultinomialNB\n",
    "from sklearn.pipeline import Pipeline\n",
    "\n",
    "model_0 = Pipeline([\n",
    "    (\"tf-idf\", TfidfVectorizer()),\n",
    "    (\"clf\", MultinomialNB())\n",
    "])"
   ]
  },
  {
   "cell_type": "code",
   "execution_count": 16,
   "id": "tribal-funeral",
   "metadata": {},
   "outputs": [
    {
     "data": {
      "text/plain": [
       "Pipeline(steps=[('tf-idf', TfidfVectorizer()), ('clf', MultinomialNB())])"
      ]
     },
     "execution_count": 16,
     "metadata": {},
     "output_type": "execute_result"
    }
   ],
   "source": [
    "# Fit model\n",
    "model_0.fit(X=train_sentences, y=train_labels_encoded)"
   ]
  },
  {
   "cell_type": "code",
   "execution_count": 17,
   "id": "interstate-pasta",
   "metadata": {},
   "outputs": [
    {
     "data": {
      "text/plain": [
       "0.7218323844829869"
      ]
     },
     "execution_count": 17,
     "metadata": {},
     "output_type": "execute_result"
    }
   ],
   "source": [
    "# Evaluate baseline model\n",
    "model_0.score(val_sentences, val_labels_encoded)"
   ]
  },
  {
   "cell_type": "code",
   "execution_count": 18,
   "id": "complex-narrow",
   "metadata": {},
   "outputs": [
    {
     "data": {
      "text/plain": [
       "{'accuracy': 72.1832384482987,\n",
       " 'precision': 0.7186466952323352,\n",
       " 'recall': 0.7218323844829869,\n",
       " 'f1': 0.6989250353450294}"
      ]
     },
     "execution_count": 18,
     "metadata": {},
     "output_type": "execute_result"
    }
   ],
   "source": [
    "# Make predictions and evaluate results\n",
    "from helper_functions import calculate_results\n",
    "preds_baseline = model_0.predict(val_sentences)\n",
    "results_baseline = calculate_results(val_labels_encoded, preds_baseline)\n",
    "results_baseline"
   ]
  },
  {
   "cell_type": "markdown",
   "id": "labeled-surprise",
   "metadata": {},
   "source": [
    "## Model 1: 1D Conv "
   ]
  },
  {
   "cell_type": "code",
   "execution_count": 19,
   "id": "polar-inventory",
   "metadata": {},
   "outputs": [],
   "source": [
    "import tensorflow as tf\n",
    "import numpy as np\n",
    "from tensorflow.keras.layers.experimental.preprocessing import TextVectorization\n",
    "from tensorflow.keras import layers"
   ]
  },
  {
   "cell_type": "code",
   "execution_count": 20,
   "id": "hungarian-mozambique",
   "metadata": {},
   "outputs": [
    {
     "data": {
      "text/plain": [
       "26.338269273494777"
      ]
     },
     "execution_count": 20,
     "metadata": {},
     "output_type": "execute_result"
    }
   ],
   "source": [
    "# How long is each sentence average?\n",
    "sentence_lens = [len(sentence.split()) for sentence in train_sentences]\n",
    "avg_sentence_len = np.mean(sentence_lens)\n",
    "avg_sentence_len"
   ]
  },
  {
   "cell_type": "code",
   "execution_count": 21,
   "id": "essential-medication",
   "metadata": {
    "scrolled": true
   },
   "outputs": [
    {
     "data": {
      "text/plain": [
       "(array([4.2075e+04, 8.3771e+04, 3.6877e+04, 1.0945e+04, 3.9310e+03,\n",
       "        1.4450e+03, 5.6000e+02, 2.2600e+02, 1.0100e+02, 4.5000e+01,\n",
       "        2.0000e+01, 1.2000e+01, 9.0000e+00, 1.0000e+01, 6.0000e+00,\n",
       "        2.0000e+00, 3.0000e+00, 0.0000e+00, 1.0000e+00, 1.0000e+00]),\n",
       " array([  1.  ,  15.75,  30.5 ,  45.25,  60.  ,  74.75,  89.5 , 104.25,\n",
       "        119.  , 133.75, 148.5 , 163.25, 178.  , 192.75, 207.5 , 222.25,\n",
       "        237.  , 251.75, 266.5 , 281.25, 296.  ]),\n",
       " <BarContainer object of 20 artists>)"
      ]
     },
     "execution_count": 21,
     "metadata": {},
     "output_type": "execute_result"
    },
    {
     "data": {
      "image/png": "[encoded data removed]",
      "text/plain": [
       "<Figure size 432x288 with 1 Axes>"
      ]
     },
     "metadata": {
      "needs_background": "light"
     },
     "output_type": "display_data"
    }
   ],
   "source": [
    "# Distrbution\n",
    "import matplotlib.pyplot as plt\n",
    "plt.hist(sentence_lens, bins=20)"
   ]
  },
  {
   "cell_type": "code",
   "execution_count": 22,
   "id": "defined-single",
   "metadata": {},
   "outputs": [
    {
     "data": {
      "text/plain": [
       "55"
      ]
     },
     "execution_count": 22,
     "metadata": {},
     "output_type": "execute_result"
    }
   ],
   "source": [
    "# What sentence length is 90% of examples?\n",
    "output_sequence_length = int(np.percentile(sentence_lens, 95))\n",
    "output_sequence_length"
   ]
  },
  {
   "cell_type": "code",
   "execution_count": 23,
   "id": "behavioral-harassment",
   "metadata": {},
   "outputs": [
    {
     "data": {
      "text/plain": [
       "296"
      ]
     },
     "execution_count": 23,
     "metadata": {},
     "output_type": "execute_result"
    }
   ],
   "source": [
    "# Maximum sequence length\n",
    "max(sentence_lens)"
   ]
  },
  {
   "cell_type": "code",
   "execution_count": 24,
   "id": "pursuant-scroll",
   "metadata": {},
   "outputs": [],
   "source": [
    "# Create text vecotrizer layer\n",
    "max_tokens = 68000 # max vocab based on paper\n",
    "text_vectorizer = TextVectorization(max_tokens=max_tokens,# number of words in vocabulary\n",
    "                                    output_sequence_length=output_sequence_length) # desired output length of vectorized sequences"
   ]
  },
  {
   "cell_type": "code",
   "execution_count": 25,
   "id": "purple-boost",
   "metadata": {},
   "outputs": [],
   "source": [
    "# Adapt text vectorizer to training sentences\n",
    "text_vectorizer.adapt(train_sentences)"
   ]
  },
  {
   "cell_type": "code",
   "execution_count": 26,
   "id": "golden-johns",
   "metadata": {},
   "outputs": [
    {
     "name": "stdout",
     "output_type": "stream",
     "text": [
      "Text:\n",
      "therapists in the condition that received ongoing coaching and consultation were significantly stronger in four of the domains : practical support , collaboration , knowledge , and skill at mediating vignettes .\n",
      "\n",
      "Length of Text: 32\n",
      "\n",
      "Vectorized Text: [[ 3393     5     2   424    28    80  1650  3060     3  2447     9    39\n",
      "   3186     5   297     4     2  1731  3301   279  5366   494     3  2945\n",
      "     15  4820 10112     0     0     0     0     0     0     0     0     0\n",
      "      0     0     0     0     0     0     0     0     0     0     0     0\n",
      "      0     0     0     0     0     0     0]]\n"
     ]
    }
   ],
   "source": [
    "# Test out text vectorizer on random sentences\n",
    "import random\n",
    "target_sentence = random.choice(train_sentences)\n",
    "print(f\"Text:\\n{target_sentence}\")\n",
    "print(f\"\\nLength of Text: {len(target_sentence.split())}\")\n",
    "print(f\"\\nVectorized Text: {text_vectorizer([target_sentence])}\")"
   ]
  },
  {
   "cell_type": "code",
   "execution_count": 27,
   "id": "decent-thailand",
   "metadata": {},
   "outputs": [
    {
     "name": "stdout",
     "output_type": "stream",
     "text": [
      "No. of words in vocab: 64841\n",
      "Most common words: ['', '[UNK]', 'the', 'and', 'of']\n",
      "Least common words: ['aainduced', 'aaigroup', 'aachener', 'aachen', 'aaacp']\n"
     ]
    }
   ],
   "source": [
    "# How many words in training vocabulary?\n",
    "rct_20k_text_vocab = text_vectorizer.get_vocabulary()\n",
    "print(f\"No. of words in vocab: {len(rct_20k_text_vocab)}\")\n",
    "print(f\"Most common words: {rct_20k_text_vocab[:5]}\")\n",
    "print(f\"Least common words: {rct_20k_text_vocab[-5:]}\")"
   ]
  },
  {
   "cell_type": "code",
   "execution_count": 28,
   "id": "greek-birthday",
   "metadata": {},
   "outputs": [
    {
     "data": {
      "text/plain": [
       "{'name': 'text_vectorization',\n",
       " 'trainable': True,\n",
       " 'dtype': 'string',\n",
       " 'max_tokens': 68000,\n",
       " 'standardize': 'lower_and_strip_punctuation',\n",
       " 'split': 'whitespace',\n",
       " 'ngrams': None,\n",
       " 'output_mode': 'int',\n",
       " 'output_sequence_length': 55,\n",
       " 'pad_to_max_tokens': True}"
      ]
     },
     "execution_count": 28,
     "metadata": {},
     "output_type": "execute_result"
    }
   ],
   "source": [
    "# Get the config of text vectorizer\n",
    "text_vectorizer.get_config()"
   ]
  },
  {
   "cell_type": "code",
   "execution_count": 29,
   "id": "remarkable-basketball",
   "metadata": {},
   "outputs": [],
   "source": [
    "# Create customer text mbedding layer\n",
    "token_embed = layers.Embedding(input_dim=len(rct_20k_text_vocab), # length of vocabulary\n",
    "                             output_dim=128,\n",
    "                             mask_zero=True, # use masking to handle variable sequence length\n",
    "                             name=\"token_embedding\")"
   ]
  },
  {
   "cell_type": "code",
   "execution_count": 30,
   "id": "ranking-context",
   "metadata": {
    "scrolled": true
   },
   "outputs": [
    {
     "name": "stdout",
     "output_type": "stream",
     "text": [
      "Sentence before vectorization:\n",
      " therapists in the condition that received ongoing coaching and consultation were significantly stronger in four of the domains : practical support , collaboration , knowledge , and skill at mediating vignettes .\n",
      "\n",
      "Sentence after vectorization (before embedding):\n",
      " [[ 3393     5     2   424    28    80  1650  3060     3  2447     9    39\n",
      "   3186     5   297     4     2  1731  3301   279  5366   494     3  2945\n",
      "     15  4820 10112     0     0     0     0     0     0     0     0     0\n",
      "      0     0     0     0     0     0     0     0     0     0     0     0\n",
      "      0     0     0     0     0     0     0]]\n",
      "Sentence after embedding:\n",
      " [[[-0.01366553 -0.0112061  -0.02640227 ...  0.003408   -0.0465085\n",
      "    0.01428078]\n",
      "  [-0.00322024  0.01238818  0.04938406 ... -0.04060106 -0.02523384\n",
      "   -0.01100463]\n",
      "  [-0.01653977  0.0013172  -0.03165609 ...  0.04209295 -0.03462525\n",
      "    0.03642129]\n",
      "  ...\n",
      "  [-0.01526861  0.03940848  0.01512093 ...  0.01739777  0.01960831\n",
      "   -0.02919303]\n",
      "  [-0.01526861  0.03940848  0.01512093 ...  0.01739777  0.01960831\n",
      "   -0.02919303]\n",
      "  [-0.01526861  0.03940848  0.01512093 ...  0.01739777  0.01960831\n",
      "   -0.02919303]]]\n",
      "Embedded sentence shape: (1, 55, 128)\n"
     ]
    }
   ],
   "source": [
    "# Show sample embedding\n",
    "print(f\"Sentence before vectorization:\\n {target_sentence}\\n\")\n",
    "vectorized_sentence = text_vectorizer([target_sentence])\n",
    "print(f\"Sentence after vectorization (before embedding):\\n {vectorized_sentence}\")\n",
    "embedded_sentence = token_embed(vectorized_sentence)\n",
    "print(f\"Sentence after embedding:\\n {embedded_sentence}\")\n",
    "print(f\"Embedded sentence shape: {embedded_sentence.shape}\")"
   ]
  },
  {
   "cell_type": "markdown",
   "id": "numeric-assets",
   "metadata": {},
   "source": [
    "### Creating Datasets and Data Pipeline"
   ]
  },
  {
   "cell_type": "code",
   "execution_count": 31,
   "id": "liable-female",
   "metadata": {},
   "outputs": [
    {
     "data": {
      "text/plain": [
       "(<TensorSliceDataset shapes: ((), (5,)), types: (tf.string, tf.float64)>,\n",
       " <TensorSliceDataset shapes: ((), (5,)), types: (tf.string, tf.float64)>,\n",
       " <TensorSliceDataset shapes: ((), (5,)), types: (tf.string, tf.float64)>)"
      ]
     },
     "execution_count": 31,
     "metadata": {},
     "output_type": "execute_result"
    }
   ],
   "source": [
    "# Turn our datsets into tensorflow datasets\n",
    "train_dataset = tf.data.Dataset.from_tensor_slices((train_sentences, train_labels_one_hot))\n",
    "val_dataset = tf.data.Dataset.from_tensor_slices((val_sentences, val_labels_one_hot))\n",
    "test_dataset = tf.data.Dataset.from_tensor_slices((test_sentences, test_labels_one_hot))\n",
    "\n",
    "val_dataset, train_dataset, test_dataset"
   ]
  },
  {
   "cell_type": "code",
   "execution_count": 32,
   "id": "plastic-baker",
   "metadata": {},
   "outputs": [
    {
     "data": {
      "text/plain": [
       "(<PrefetchDataset shapes: ((None,), (None, 5)), types: (tf.string, tf.float64)>,\n",
       " <PrefetchDataset shapes: ((None,), (None, 5)), types: (tf.string, tf.float64)>)"
      ]
     },
     "execution_count": 32,
     "metadata": {},
     "output_type": "execute_result"
    }
   ],
   "source": [
    "# Take the TensorSliceDatasets and turn them into prefetched data\n",
    "train_dataset = train_dataset.batch(32).prefetch(tf.data.AUTOTUNE)\n",
    "val_dataset = val_dataset.batch(32).prefetch(tf.data.AUTOTUNE)\n",
    "test_dataset = test_dataset.batch(32).prefetch(tf.data.AUTOTUNE)\n",
    "val_dataset, train_dataset"
   ]
  },
  {
   "cell_type": "code",
   "execution_count": 33,
   "id": "alike-praise",
   "metadata": {},
   "outputs": [],
   "source": [
    "# Create model 1 1d conv\n",
    "inputs = layers.Input(shape=(1,), dtype=\"string\")\n",
    "text_vectors = text_vectorizer(inputs) # vectorize text inputs\n",
    "token_embeddings = token_embed(text_vectors) # create embedding of tokens\n",
    "x = layers.Conv1D(64, kernel_size=5, padding=\"same\", activation=\"relu\")(token_embeddings)\n",
    "x = layers.GlobalAveragePooling1D()(x) # condenses output of feature vector from conv layer\n",
    "outputs = layers.Dense(num_classes, activation=\"softmax\")(x)\n",
    "model_1 = tf.keras.Model(inputs, outputs, name=\"model_1_conv1d\")"
   ]
  },
  {
   "cell_type": "code",
   "execution_count": 34,
   "id": "agricultural-credit",
   "metadata": {},
   "outputs": [],
   "source": [
    "# Compile model\n",
    "model_1.compile(optimizer=\"adam\",\n",
    "                       loss=\"categorical_crossentropy\",\n",
    "                       metrics=[\"accuracy\"])"
   ]
  },
  {
   "cell_type": "code",
   "execution_count": 36,
   "id": "cross-lodging",
   "metadata": {},
   "outputs": [
    {
     "name": "stdout",
     "output_type": "stream",
     "text": [
      "Model: \"model_1_conv1d\"\n",
      "_________________________________________________________________\n",
      "Layer (type)                 Output Shape              Param #   \n",
      "=================================================================\n",
      "input_1 (InputLayer)         [(None, 1)]               0         \n",
      "_________________________________________________________________\n",
      "text_vectorization (TextVect (None, 55)                0         \n",
      "_________________________________________________________________\n",
      "token_embedding (Embedding)  (None, 55, 128)           8299648   \n",
      "_________________________________________________________________\n",
      "conv1d (Conv1D)              (None, 55, 64)            41024     \n",
      "_________________________________________________________________\n",
      "global_average_pooling1d (Gl (None, 64)                0         \n",
      "_________________________________________________________________\n",
      "dense (Dense)                (None, 5)                 325       \n",
      "=================================================================\n",
      "Total params: 8,340,997\n",
      "Trainable params: 8,340,997\n",
      "Non-trainable params: 0\n",
      "_________________________________________________________________\n"
     ]
    }
   ],
   "source": [
    "# Model summary\n",
    "model_1.summary()"
   ]
  },
  {
   "cell_type": "code",
   "execution_count": 37,
   "id": "reflected-pearl",
   "metadata": {},
   "outputs": [
    {
     "name": "stdout",
     "output_type": "stream",
     "text": [
      "Epoch 1/3\n",
      "562/562 [==============================] - 27s 47ms/step - loss: 1.1679 - accuracy: 0.5197 - val_loss: 0.6841 - val_accuracy: 0.7443\n",
      "Epoch 2/3\n",
      "562/562 [==============================] - 26s 47ms/step - loss: 0.6756 - accuracy: 0.7473 - val_loss: 0.6313 - val_accuracy: 0.7739\n",
      "Epoch 3/3\n",
      "562/562 [==============================] - 28s 50ms/step - loss: 0.6199 - accuracy: 0.7722 - val_loss: 0.5943 - val_accuracy: 0.7886\n"
     ]
    }
   ],
   "source": [
    "# Fit model\n",
    "history_1_conv1d = model_1.fit(train_dataset,\n",
    "                                      epochs=3,\n",
    "                                      steps_per_epoch=int(0.1*len(train_dataset)),\n",
    "                                      validation_data=val_dataset,\n",
    "                                      validation_steps=int(0.1*len(val_dataset)))"
   ]
  },
  {
   "cell_type": "code",
   "execution_count": 38,
   "id": "curious-austin",
   "metadata": {},
   "outputs": [
    {
     "name": "stdout",
     "output_type": "stream",
     "text": [
      "945/945 [==============================] - 2s 2ms/step - loss: 0.5963 - accuracy: 0.7877\n"
     ]
    },
    {
     "data": {
      "text/plain": [
       "[0.5962533950805664, 0.7877002358436584]"
      ]
     },
     "execution_count": 38,
     "metadata": {},
     "output_type": "execute_result"
    }
   ],
   "source": [
    "# Evaluate model on whole valid dataset\n",
    "model_1.evaluate(val_dataset)"
   ]
  },
  {
   "cell_type": "code",
   "execution_count": 39,
   "id": "higher-medicine",
   "metadata": {},
   "outputs": [
    {
     "data": {
      "text/plain": [
       "((30212, 5),\n",
       " array([[4.3526977e-01, 1.6831070e-01, 8.9088999e-02, 2.7186802e-01,\n",
       "         3.5462458e-02],\n",
       "        [4.4380090e-01, 2.8833312e-01, 1.1802314e-02, 2.4766858e-01,\n",
       "         8.3951531e-03],\n",
       "        [1.4995600e-01, 8.3577884e-03, 2.1439127e-03, 8.3950627e-01,\n",
       "         3.6012003e-05],\n",
       "        ...,\n",
       "        [5.8499372e-06, 7.6014904e-04, 8.5229642e-04, 3.3194074e-06,\n",
       "         9.9837840e-01],\n",
       "        [6.0294524e-02, 4.9483475e-01, 8.1755519e-02, 6.9790423e-02,\n",
       "         2.9332483e-01],\n",
       "        [1.8412279e-01, 6.7072272e-01, 3.8705889e-02, 6.1205104e-02,\n",
       "         4.5243591e-02]], dtype=float32))"
      ]
     },
     "execution_count": 39,
     "metadata": {},
     "output_type": "execute_result"
    }
   ],
   "source": [
    "# Make predictions\n",
    "pred_probs_model_1 = model_1.predict(val_dataset)\n",
    "pred_probs_model_1.shape, pred_probs_model_1"
   ]
  },
  {
   "cell_type": "code",
   "execution_count": 40,
   "id": "upset-ethiopia",
   "metadata": {},
   "outputs": [
    {
     "data": {
      "text/plain": [
       "<tf.Tensor: shape=(30212,), dtype=int64, numpy=array([0, 0, 3, ..., 4, 1, 1])>"
      ]
     },
     "execution_count": 40,
     "metadata": {},
     "output_type": "execute_result"
    }
   ],
   "source": [
    "# Convert pred probs to classes\n",
    "preds_model_1 = tf.argmax(pred_probs_model_1, axis=1)\n",
    "preds_model_1"
   ]
  },
  {
   "cell_type": "code",
   "execution_count": 41,
   "id": "removable-extreme",
   "metadata": {},
   "outputs": [
    {
     "data": {
      "text/plain": [
       "{'accuracy': 78.77002515556732,\n",
       " 'precision': 0.7849286362229138,\n",
       " 'recall': 0.7877002515556732,\n",
       " 'f1': 0.785583812464948}"
      ]
     },
     "execution_count": 41,
     "metadata": {},
     "output_type": "execute_result"
    }
   ],
   "source": [
    "# Calculate results\n",
    "results_model_1 = calculate_results(y_true=val_labels_encoded,\n",
    "                                    y_pred=preds_model_1)\n",
    "results_model_1"
   ]
  },
  {
   "cell_type": "markdown",
   "id": "northern-grace",
   "metadata": {},
   "source": [
    "## Model 2: Feature extraction with pretrained token embeddings"
   ]
  },
  {
   "cell_type": "code",
   "execution_count": 42,
   "id": "electrical-stockholm",
   "metadata": {},
   "outputs": [],
   "source": [
    "# Download pretrained TensorFlow Hub USE\n",
    "import tensorflow_hub as hub\n",
    "tf_hub_embedding_layer = hub.KerasLayer(\"https://tfhub.dev/google/universal-sentence-encoder/4\",\n",
    "                                        trainable=False,\n",
    "                                        name=\"universal_sentence_encoder\")"
   ]
  },
  {
   "cell_type": "code",
   "execution_count": 43,
   "id": "ancient-therapy",
   "metadata": {},
   "outputs": [
    {
     "name": "stdout",
     "output_type": "stream",
     "text": [
      "Random sentence:\n",
      " concomitant topiramate resulted in decreased systemic exposure to pioglitazone and its active metabolites , with geometric lsm ratios and @ % ci for auc@ of @ % ( @ % , @ % ) for pioglitazone , @ % ( @ % , @ % ) for m-iii , and @ % ( @ % , @ % ) for m-iv , respectively .\n",
      "Sentence after emebedding:\n",
      " [-0.05038282 -0.01567073  0.04524048 -0.0593362   0.04197872  0.01878404\n",
      "  0.01880026 -0.07839324 -0.02028934  0.04704168  0.06753425  0.03030708\n",
      "  0.0003203   0.0659723   0.01144836 -0.04576302 -0.08748128 -0.00905128\n",
      "  0.03876464 -0.02572319  0.05153862 -0.01771937 -0.06230777 -0.05399334\n",
      "  0.07693545  0.02690622  0.02859716 -0.01051618  0.04673811  0.07011968]\n",
      "\n",
      "Length of sentence embedding: 512\n"
     ]
    }
   ],
   "source": [
    "# Test out the pretrained embedding on a random sentence\n",
    "random_sentence = random.choice(train_sentences)\n",
    "print(f\"Random sentence:\\n {random_sentence}\")\n",
    "use_embedded_sentence = tf_hub_embedding_layer([random_sentence])\n",
    "print(f\"Sentence after emebedding:\\n {use_embedded_sentence[0][:30]}\\n\")\n",
    "print(f\"Length of sentence embedding: {len(use_embedded_sentence[0])}\")"
   ]
  },
  {
   "cell_type": "code",
   "execution_count": 44,
   "id": "north-nickname",
   "metadata": {},
   "outputs": [],
   "source": [
    "# Create model\n",
    "inputs = layers.Input(shape=[], dtype=\"string\")\n",
    "pretrained_embedding = tf_hub_embedding_layer(inputs)\n",
    "x = layers.Dense(128, activation=\"relu\")(pretrained_embedding)\n",
    "outputs = layers.Dense(num_classes, activation=\"softmax\")(x)\n",
    "model_2 = tf.keras.Model(inputs, outputs, name=\"model_2_use\")\n",
    "\n",
    "# Compile model\n",
    "model_2.compile(optimizer=\"adam\",\n",
    "                loss=\"categorical_crossentropy\",\n",
    "                metrics=[\"accuracy\"])"
   ]
  },
  {
   "cell_type": "code",
   "execution_count": 45,
   "id": "following-palmer",
   "metadata": {},
   "outputs": [
    {
     "name": "stdout",
     "output_type": "stream",
     "text": [
      "Model: \"model_2_use\"\n",
      "_________________________________________________________________\n",
      "Layer (type)                 Output Shape              Param #   \n",
      "=================================================================\n",
      "input_2 (InputLayer)         [(None,)]                 0         \n",
      "_________________________________________________________________\n",
      "universal_sentence_encoder ( (None, 512)               256797824 \n",
      "_________________________________________________________________\n",
      "dense_1 (Dense)              (None, 128)               65664     \n",
      "_________________________________________________________________\n",
      "dense_2 (Dense)              (None, 5)                 645       \n",
      "=================================================================\n",
      "Total params: 256,864,133\n",
      "Trainable params: 66,309\n",
      "Non-trainable params: 256,797,824\n",
      "_________________________________________________________________\n"
     ]
    }
   ],
   "source": [
    "# Model summary\n",
    "model_2.summary()"
   ]
  },
  {
   "cell_type": "code",
   "execution_count": 46,
   "id": "homeless-intention",
   "metadata": {},
   "outputs": [
    {
     "name": "stdout",
     "output_type": "stream",
     "text": [
      "Epoch 1/3\n",
      "562/562 [==============================] - 6s 7ms/step - loss: 1.0877 - accuracy: 0.5898 - val_loss: 0.7967 - val_accuracy: 0.6875\n",
      "Epoch 2/3\n",
      "562/562 [==============================] - 4s 6ms/step - loss: 0.7732 - accuracy: 0.7009 - val_loss: 0.7561 - val_accuracy: 0.7058\n",
      "Epoch 3/3\n",
      "562/562 [==============================] - 4s 6ms/step - loss: 0.7592 - accuracy: 0.7111 - val_loss: 0.7417 - val_accuracy: 0.7111\n"
     ]
    }
   ],
   "source": [
    "# Fit model\n",
    "history_2_use = model_2.fit(train_dataset,\n",
    "                            epochs=3,\n",
    "                            steps_per_epoch=int(0.1*len(train_dataset)),\n",
    "                            validation_data=val_dataset,\n",
    "                            validation_steps=int(0.1*len(val_dataset)))"
   ]
  },
  {
   "cell_type": "code",
   "execution_count": 47,
   "id": "peripheral-finance",
   "metadata": {},
   "outputs": [
    {
     "name": "stdout",
     "output_type": "stream",
     "text": [
      "945/945 [==============================] - 5s 5ms/step - loss: 0.7451 - accuracy: 0.7123\n"
     ]
    },
    {
     "data": {
      "text/plain": [
       "[0.7451012134552002, 0.7123328447341919]"
      ]
     },
     "execution_count": 47,
     "metadata": {},
     "output_type": "execute_result"
    }
   ],
   "source": [
    "# Evaluate model\n",
    "model_2.evaluate(val_dataset)"
   ]
  },
  {
   "cell_type": "code",
   "execution_count": 48,
   "id": "answering-makeup",
   "metadata": {},
   "outputs": [
    {
     "data": {
      "text/plain": [
       "{'accuracy': 71.23328478750165,\n",
       " 'precision': 0.7123678120550535,\n",
       " 'recall': 0.7123328478750165,\n",
       " 'f1': 0.7095497171887325}"
      ]
     },
     "execution_count": 48,
     "metadata": {},
     "output_type": "execute_result"
    }
   ],
   "source": [
    "# Make predictions with feature extraction model\n",
    "pred_probs_model_2 = model_2.predict(val_dataset)\n",
    "preds_model_2 = tf.argmax(pred_probs_model_2, axis=1)\n",
    "results_model_2 = calculate_results(val_labels_encoded, preds_model_2)\n",
    "results_model_2"
   ]
  },
  {
   "cell_type": "code",
   "execution_count": 49,
   "id": "changed-recall",
   "metadata": {},
   "outputs": [
    {
     "data": {
      "text/plain": [
       "{'accuracy': 78.77002515556732,\n",
       " 'precision': 0.7849286362229138,\n",
       " 'recall': 0.7877002515556732,\n",
       " 'f1': 0.785583812464948}"
      ]
     },
     "execution_count": 49,
     "metadata": {},
     "output_type": "execute_result"
    }
   ],
   "source": [
    "results_model_1"
   ]
  },
  {
   "cell_type": "markdown",
   "id": "given-correspondence",
   "metadata": {},
   "source": [
    "## Model 3: Conv1D w/ Character-level embeddings "
   ]
  },
  {
   "cell_type": "markdown",
   "id": "executed-absolute",
   "metadata": {},
   "source": [
    "### Create character-level tokenizer"
   ]
  },
  {
   "cell_type": "code",
   "execution_count": 50,
   "id": "controlled-discovery",
   "metadata": {},
   "outputs": [
    {
     "data": {
      "text/plain": [
       "'c o n c o m i t a n t   t o p i r a m a t e   r e s u l t e d   i n   d e c r e a s e d   s y s t e m i c   e x p o s u r e   t o   p i o g l i t a z o n e   a n d   i t s   a c t i v e   m e t a b o l i t e s   ,   w i t h   g e o m e t r i c   l s m   r a t i o s   a n d   @   %   c i   f o r   a u c @   o f   @   %   (   @   %   ,   @   %   )   f o r   p i o g l i t a z o n e   ,   @   %   (   @   %   ,   @   %   )   f o r   m - i i i   ,   a n d   @   %   (   @   %   ,   @   %   )   f o r   m - i v   ,   r e s p e c t i v e l y   .'"
      ]
     },
     "execution_count": 50,
     "metadata": {},
     "output_type": "execute_result"
    }
   ],
   "source": [
    "# Make function to split sentences into characters\n",
    "def split_chars(text):\n",
    "    return \" \".join(list(text))\n",
    "\n",
    "# Splitting non-character-level sequence into characters\n",
    "split_chars(random_sentence)"
   ]
  },
  {
   "cell_type": "code",
   "execution_count": 51,
   "id": "closing-magnitude",
   "metadata": {},
   "outputs": [],
   "source": [
    "# Split sequence-level data splits into character-level data splits\n",
    "train_chars = [split_chars(sentence) for sentence in train_sentences]\n",
    "val_chars = [split_chars(sentence) for sentence in val_sentences]\n",
    "test_chars = [split_chars(sentence) for sentence in test_sentences]"
   ]
  },
  {
   "cell_type": "code",
   "execution_count": 52,
   "id": "flexible-latter",
   "metadata": {},
   "outputs": [
    {
     "data": {
      "text/plain": [
       "149.3662574983337"
      ]
     },
     "execution_count": 52,
     "metadata": {},
     "output_type": "execute_result"
    }
   ],
   "source": [
    "# What's average character length?\n",
    "chars_lens = [len(sentence) for sentence in train_sentences]\n",
    "mean_char_len = np.mean(chars_lens)\n",
    "mean_char_len"
   ]
  },
  {
   "cell_type": "code",
   "execution_count": 53,
   "id": "accurate-merchandise",
   "metadata": {},
   "outputs": [
    {
     "data": {
      "image/png": "[encoded data removed]",
      "text/plain": [
       "<Figure size 432x288 with 1 Axes>"
      ]
     },
     "metadata": {
      "needs_background": "light"
     },
     "output_type": "display_data"
    }
   ],
   "source": [
    "# Check distribution\n",
    "import matplotlib.pyplot\n",
    "plt.hist(chars_lens, bins=7);"
   ]
  },
  {
   "cell_type": "code",
   "execution_count": 54,
   "id": "japanese-consortium",
   "metadata": {},
   "outputs": [
    {
     "data": {
      "text/plain": [
       "290"
      ]
     },
     "execution_count": 54,
     "metadata": {},
     "output_type": "execute_result"
    }
   ],
   "source": [
    "# Find what character length covers 95% of sequences\n",
    "output_seq_char_len = int(np.percentile(chars_lens, 95))\n",
    "output_seq_char_len"
   ]
  },
  {
   "cell_type": "code",
   "execution_count": 55,
   "id": "changing-stewart",
   "metadata": {},
   "outputs": [
    {
     "data": {
      "text/plain": [
       "'abcdefghijklmnopqrstuvwxyz0123456789!\"#$%&\\'()*+,-./:;<=>?@[\\\\]^_`{|}~'"
      ]
     },
     "execution_count": 55,
     "metadata": {},
     "output_type": "execute_result"
    }
   ],
   "source": [
    "# Get all keyboard characters\n",
    "import string\n",
    "alphabet = string.ascii_lowercase + string.digits + string.punctuation\n",
    "alphabet"
   ]
  },
  {
   "cell_type": "code",
   "execution_count": 56,
   "id": "stretch-current",
   "metadata": {},
   "outputs": [],
   "source": [
    "# Create char-level token vectorizer\n",
    "NUM_CHAR_TOKENS = len(alphabet) + 2\n",
    "char_vectorizer = TextVectorization(max_tokens=NUM_CHAR_TOKENS,\n",
    "                                    output_sequence_length=output_seq_char_len,\n",
    "                                    name=\"char_vectorizer\")"
   ]
  },
  {
   "cell_type": "code",
   "execution_count": 57,
   "id": "protective-techno",
   "metadata": {},
   "outputs": [],
   "source": [
    "# Adapt vectorizer to training chars\n",
    "char_vectorizer.adapt(train_chars)"
   ]
  },
  {
   "cell_type": "code",
   "execution_count": 58,
   "id": "composite-freight",
   "metadata": {},
   "outputs": [
    {
     "name": "stdout",
     "output_type": "stream",
     "text": [
      "Length of vocab: 28\n",
      "Most common chars: ['', '[UNK]', 'e', 't', 'i']\n",
      "Least common chars: ['k', 'x', 'z', 'q', 'j']\n"
     ]
    }
   ],
   "source": [
    "# Check vocab stats\n",
    "char_vocab = char_vectorizer.get_vocabulary()\n",
    "print(f\"Length of vocab: {len(char_vocab)}\")\n",
    "print(f\"Most common chars: {char_vocab[:5]}\")\n",
    "print(f\"Least common chars: {char_vocab[-5:]}\")"
   ]
  },
  {
   "cell_type": "code",
   "execution_count": 59,
   "id": "brutal-exclusion",
   "metadata": {},
   "outputs": [
    {
     "name": "stdout",
     "output_type": "stream",
     "text": [
      "Charified text:\n",
      " t h e   p u r p o s e   o f   t h i s   s t u d y   i s   t o   d e t e r m i n e   w h e t h e r   e x t r a c r a n i a l - i n t r a c r a n i a l   b y p a s s   c a n   r e d u c e   i n c i d e n c e   o f   r e b l e e d i n g   a n d   i m p r o v e   p a t i e n t   p r o g n o s i s   .\n",
      "Length of random train chars: 297\n",
      "Vectorized chars:\n",
      " [[ 3 13  2 14 16  8 14  7  9  2  7 17  3 13  4  9  9  3 16 10 19  4  9  3\n",
      "   7 10  2  3  2  8 15  4  6  2 20 13  2  3 13  2  8  2 24  3  8  5 11  8\n",
      "   5  6  4  5 12  4  6  3  8  5 11  8  5  6  4  5 12 22 19 14  5  9  9 11\n",
      "   5  6  8  2 10 16 11  2  4  6 11  4 10  2  6 11  2  7 17  8  2 22 12  2\n",
      "   2 10  4  6 18  5  6 10  4 15 14  8  7 21  2 14  5  3  4  2  6  3 14  8\n",
      "   7 18  6  7  9  4  9  0  0  0  0  0  0  0  0  0  0  0  0  0  0  0  0  0\n",
      "   0  0  0  0  0  0  0  0  0  0  0  0  0  0  0  0  0  0  0  0  0  0  0  0\n",
      "   0  0  0  0  0  0  0  0  0  0  0  0  0  0  0  0  0  0  0  0  0  0  0  0\n",
      "   0  0  0  0  0  0  0  0  0  0  0  0  0  0  0  0  0  0  0  0  0  0  0  0\n",
      "   0  0  0  0  0  0  0  0  0  0  0  0  0  0  0  0  0  0  0  0  0  0  0  0\n",
      "   0  0  0  0  0  0  0  0  0  0  0  0  0  0  0  0  0  0  0  0  0  0  0  0\n",
      "   0  0  0  0  0  0  0  0  0  0  0  0  0  0  0  0  0  0  0  0  0  0  0  0\n",
      "   0  0]]\n",
      "Length of vectorized chars: 290\n"
     ]
    }
   ],
   "source": [
    "# Test out char_vectorizer\n",
    "random_train_chars = random.choice(train_chars)\n",
    "print(f\"Charified text:\\n {random_train_chars}\")\n",
    "print(f\"Length of random train chars: {len(random_train_chars)}\")\n",
    "vectorized_chars = char_vectorizer([random_train_chars])\n",
    "print(f\"Vectorized chars:\\n {vectorized_chars}\")\n",
    "print(f\"Length of vectorized chars: {len(vectorized_chars[0])}\")"
   ]
  },
  {
   "cell_type": "code",
   "execution_count": 60,
   "id": "mysterious-rally",
   "metadata": {},
   "outputs": [],
   "source": [
    "# Create customer text mbedding layer\n",
    "char_embed = layers.Embedding(input_dim=len(char_vocab), # length of vocabulary\n",
    "                             output_dim=25,\n",
    "                             mask_zero=True, # use masking to handle variable sequence length\n",
    "                             name=\"char_embedding\")"
   ]
  },
  {
   "cell_type": "code",
   "execution_count": 61,
   "id": "monthly-foundation",
   "metadata": {
    "scrolled": true
   },
   "outputs": [
    {
     "name": "stdout",
     "output_type": "stream",
     "text": [
      "Charified text: t h e   p u r p o s e   o f   t h i s   s t u d y   i s   t o   d e t e r m i n e   w h e t h e r   e x t r a c r a n i a l - i n t r a c r a n i a l   b y p a s s   c a n   r e d u c e   i n c i d e n c e   o f   r e b l e e d i n g   a n d   i m p r o v e   p a t i e n t   p r o g n o s i s   .\n",
      "Embedded chars:\n",
      " [[[ 0.00687295 -0.02274187 -0.03520662 ...  0.04068976  0.01662036\n",
      "   -0.02300869]\n",
      "  [ 0.02052591 -0.01628218  0.00549845 ...  0.04945913 -0.02249718\n",
      "    0.02012842]\n",
      "  [-0.00210421 -0.03231883  0.004817   ... -0.03466912 -0.00210259\n",
      "   -0.00277997]\n",
      "  ...\n",
      "  [ 0.02505909  0.03351548  0.03376618 ...  0.03345281  0.01130847\n",
      "    0.00820534]\n",
      "  [ 0.02505909  0.03351548  0.03376618 ...  0.03345281  0.01130847\n",
      "    0.00820534]\n",
      "  [ 0.02505909  0.03351548  0.03376618 ...  0.03345281  0.01130847\n",
      "    0.00820534]]]\n",
      "Shape of embedded char: (1, 290, 25)\n"
     ]
    }
   ],
   "source": [
    "# Test char embedding\n",
    "print(f\"Charified text: {random_train_chars}\")\n",
    "char_embed_examples = char_embed(char_vectorizer([random_train_chars]))\n",
    "print(f\"Embedded chars:\\n {char_embed_examples}\")\n",
    "print(f\"Shape of embedded char: {char_embed_examples.shape}\")"
   ]
  },
  {
   "cell_type": "code",
   "execution_count": 62,
   "id": "indian-entertainment",
   "metadata": {},
   "outputs": [
    {
     "data": {
      "text/plain": [
       "<PrefetchDataset shapes: ((None,), (None, 5)), types: (tf.string, tf.float64)>"
      ]
     },
     "execution_count": 62,
     "metadata": {},
     "output_type": "execute_result"
    }
   ],
   "source": [
    "# Create char level datasets\n",
    "train_char_dataset = tf.data.Dataset.from_tensor_slices((train_chars, train_labels_one_hot)).batch(32).prefetch(tf.data.AUTOTUNE)\n",
    "val_char_dataset = tf.data.Dataset.from_tensor_slices((val_chars, val_labels_one_hot)).batch(32).prefetch(tf.data.AUTOTUNE)\n",
    "test_char_dataset = tf.data.Dataset.from_tensor_slices((test_chars, test_labels_one_hot)).batch(32).prefetch(tf.data.AUTOTUNE)\n",
    "\n",
    "train_char_dataset"
   ]
  },
  {
   "cell_type": "code",
   "execution_count": 63,
   "id": "wooden-return",
   "metadata": {},
   "outputs": [],
   "source": [
    "# Create model 3\n",
    "inputs = layers.Input(shape=(1,), dtype=\"string\")\n",
    "char_vectors = char_vectorizer(inputs)\n",
    "char_embeddings = char_embed(char_vectors)\n",
    "x = layers.Conv1D(64, kernel_size=5, padding=\"same\", activation=\"relu\")(char_embeddings)\n",
    "x = layers.GlobalMaxPool1D()(x)\n",
    "outputs = layers.Dense(num_classes, activation=\"softmax\")(x)\n",
    "model_3 = tf.keras.Model(inputs, outputs, name=\"model_3_conv1d_char\")\n",
    "\n",
    "# Compile model\n",
    "model_3.compile(optimizer=\"adam\",\n",
    "                loss=\"categorical_crossentropy\",\n",
    "                metrics=[\"accuracy\"])"
   ]
  },
  {
   "cell_type": "code",
   "execution_count": 64,
   "id": "executive-separate",
   "metadata": {},
   "outputs": [
    {
     "name": "stdout",
     "output_type": "stream",
     "text": [
      "Model: \"model_3_conv1d_char\"\n",
      "_________________________________________________________________\n",
      "Layer (type)                 Output Shape              Param #   \n",
      "=================================================================\n",
      "input_3 (InputLayer)         [(None, 1)]               0         \n",
      "_________________________________________________________________\n",
      "char_vectorizer (TextVectori (None, 290)               0         \n",
      "_________________________________________________________________\n",
      "char_embedding (Embedding)   (None, 290, 25)           700       \n",
      "_________________________________________________________________\n",
      "conv1d_1 (Conv1D)            (None, 290, 64)           8064      \n",
      "_________________________________________________________________\n",
      "global_max_pooling1d (Global (None, 64)                0         \n",
      "_________________________________________________________________\n",
      "dense_3 (Dense)              (None, 5)                 325       \n",
      "=================================================================\n",
      "Total params: 9,089\n",
      "Trainable params: 9,089\n",
      "Non-trainable params: 0\n",
      "_________________________________________________________________\n"
     ]
    }
   ],
   "source": [
    "# Check model summary\n",
    "model_3.summary()"
   ]
  },
  {
   "cell_type": "code",
   "execution_count": 65,
   "id": "induced-liquid",
   "metadata": {},
   "outputs": [
    {
     "name": "stdout",
     "output_type": "stream",
     "text": [
      "Epoch 1/3\n",
      "562/562 [==============================] - 6s 10ms/step - loss: 1.4163 - accuracy: 0.4051 - val_loss: 1.0506 - val_accuracy: 0.5848\n",
      "Epoch 2/3\n",
      "562/562 [==============================] - 5s 10ms/step - loss: 1.0290 - accuracy: 0.5929 - val_loss: 0.9392 - val_accuracy: 0.6307\n",
      "Epoch 3/3\n",
      "562/562 [==============================] - 6s 10ms/step - loss: 0.9362 - accuracy: 0.6352 - val_loss: 0.8670 - val_accuracy: 0.6596\n"
     ]
    }
   ],
   "source": [
    "# Fit model\n",
    "history_3_conv1d_char = model_3.fit(train_char_dataset,\n",
    "                             epochs=3,\n",
    "                             steps_per_epoch=int(0.1*len(train_char_dataset)),\n",
    "                             validation_data=val_char_dataset,\n",
    "                             validation_steps=int(0.1*len(val_char_dataset)))"
   ]
  },
  {
   "cell_type": "code",
   "execution_count": 66,
   "id": "irish-peninsula",
   "metadata": {},
   "outputs": [
    {
     "name": "stdout",
     "output_type": "stream",
     "text": [
      "945/945 [==============================] - 2s 2ms/step - loss: 0.8800 - accuracy: 0.6580\n"
     ]
    },
    {
     "data": {
      "text/plain": [
       "[0.8800021409988403, 0.6580166816711426]"
      ]
     },
     "execution_count": 66,
     "metadata": {},
     "output_type": "execute_result"
    }
   ],
   "source": [
    "# Evaluate on whole val dataset\n",
    "model_3.evaluate(val_char_dataset)"
   ]
  },
  {
   "cell_type": "code",
   "execution_count": 67,
   "id": "civilian-workstation",
   "metadata": {},
   "outputs": [
    {
     "data": {
      "text/plain": [
       "{'accuracy': 65.80166821130676,\n",
       " 'precision': 0.6454875211007919,\n",
       " 'recall': 0.6580166821130676,\n",
       " 'f1': 0.647923389871037}"
      ]
     },
     "execution_count": 67,
     "metadata": {},
     "output_type": "execute_result"
    }
   ],
   "source": [
    "# Use model to predict results and evaluate\n",
    "pred_probs_model_3 = model_3.predict(val_char_dataset)\n",
    "preds_model_3 = tf.argmax(pred_probs_model_3, axis=1)\n",
    "results_model_3 = calculate_results(val_labels_encoded, preds_model_3)\n",
    "results_model_3"
   ]
  },
  {
   "cell_type": "markdown",
   "id": "missing-lotus",
   "metadata": {},
   "source": [
    "## Model 4: Hybrid Embedding Layer (token + character embedding)"
   ]
  },
  {
   "cell_type": "code",
   "execution_count": 76,
   "id": "direct-anthropology",
   "metadata": {},
   "outputs": [],
   "source": [
    "# Combine chars and tokens into a training dataset\n",
    "train_char_token_data = tf.data.Dataset.from_tensor_slices((train_sentences, train_chars))\n",
    "train_char_token_labels = tf.data.Dataset.from_tensor_slices(train_labels_one_hot)\n",
    "train_char_token_dataset = tf.data.Dataset.zip((train_char_token_data, train_char_token_labels))\n",
    "\n",
    "# Prefetch and batch train data\n",
    "train_char_token_dataset = train_char_token_dataset.batch(32).prefetch(tf.data.AUTOTUNE)"
   ]
  },
  {
   "cell_type": "code",
   "execution_count": 77,
   "id": "reported-progress",
   "metadata": {},
   "outputs": [],
   "source": [
    "# Combine chars and tokens into a validation dataset\n",
    "val_char_token_data = tf.data.Dataset.from_tensor_slices((val_sentences, val_chars))\n",
    "val_char_token_labels = tf.data.Dataset.from_tensor_slices(val_labels_one_hot)\n",
    "val_char_token_dataset = tf.data.Dataset.zip((val_char_token_data, val_char_token_labels))\n",
    "\n",
    "# Prefetch and batch validation data\n",
    "val_char_token_dataset = val_char_token_dataset.batch(32).prefetch(tf.data.AUTOTUNE)"
   ]
  },
  {
   "cell_type": "code",
   "execution_count": 78,
   "id": "laden-legend",
   "metadata": {},
   "outputs": [],
   "source": [
    "# Combine chars and tokens into a test dataset\n",
    "test_char_token_data = tf.data.Dataset.from_tensor_slices((test_sentences, test_chars))\n",
    "test_char_token_labels = tf.data.Dataset.from_tensor_slices(test_labels_one_hot)\n",
    "test_char_token_dataset = tf.data.Dataset.zip((test_char_token_data, test_char_token_labels))\n",
    "\n",
    "# Prefetch and batch test data\n",
    "test_char_token_dataset = test_char_token_dataset.batch(32).prefetch(tf.data.AUTOTUNE)"
   ]
  },
  {
   "cell_type": "code",
   "execution_count": 79,
   "id": "domestic-customs",
   "metadata": {},
   "outputs": [
    {
     "data": {
      "text/plain": [
       "(<PrefetchDataset shapes: (((None,), (None,)), (None, 5)), types: ((tf.string, tf.string), tf.float64)>,\n",
       " <PrefetchDataset shapes: (((None,), (None,)), (None, 5)), types: ((tf.string, tf.string), tf.float64)>,\n",
       " <PrefetchDataset shapes: (((None,), (None,)), (None, 5)), types: ((tf.string, tf.string), tf.float64)>)"
      ]
     },
     "execution_count": 79,
     "metadata": {},
     "output_type": "execute_result"
    }
   ],
   "source": [
    "# Check datasets\n",
    "train_char_token_dataset, val_char_token_dataset, test_char_token_dataset"
   ]
  },
  {
   "cell_type": "code",
   "execution_count": 68,
   "id": "precise-orientation",
   "metadata": {},
   "outputs": [],
   "source": [
    "# Set up token inputs/model\n",
    "token_inputs = layers.Input(shape=[], dtype=\"string\", name=\"token_input\")\n",
    "token_embeddings = tf_hub_embedding_layer(token_inputs)\n",
    "token_outputs = layers.Dense(128, activation=\"relu\")(token_embeddings)\n",
    "token_model = tf.keras.Model(token_inputs, token_outputs, name=\"model_token\")\n",
    "\n",
    "# Set up character-level inputs/model\n",
    "char_inputs = layers.Input(shape=(1,), dtype=\"string\", name=\"char_input\")\n",
    "char_vectors = char_vectorizer(char_inputs)\n",
    "char_embeddings = char_embed(char_vectors)\n",
    "char_bi_lstm = layers.Bidirectional(layers.LSTM(24))(char_embeddings)\n",
    "char_model = tf.keras.Model(char_inputs, char_bi_lstm)\n",
    "\n",
    "# Create hybrid token embedding (concatenate char and tokem embeds)\n",
    "token_char_concat = layers.Concatenate(name=\"token_char_hybrid\")([token_model.output,\n",
    "                                                                  char_model.output])\n",
    "\n",
    "# Create output layers\n",
    "combined_dropout = layers.Dropout(0.5)(token_char_concat)\n",
    "combined_dense = layers.Dense(128, activation=\"relu\")(combined_dropout)\n",
    "final_dropout = layers.Dropout(0.5)(combined_dense)\n",
    "outputs = layers.Dense(num_classes, activation=\"softmax\")(final_dropout)\n",
    "\n",
    "# Construct model with char and tokens inputs\n",
    "model_4 = tf.keras.Model([token_model.inputs, char_model.inputs], outputs, name=\"model_4_token_char_embeddings\")"
   ]
  },
  {
   "cell_type": "code",
   "execution_count": 69,
   "id": "dimensional-project",
   "metadata": {},
   "outputs": [
    {
     "name": "stdout",
     "output_type": "stream",
     "text": [
      "Model: \"model_4_token_char_embeddings\"\n",
      "__________________________________________________________________________________________________\n",
      "Layer (type)                    Output Shape         Param #     Connected to                     \n",
      "==================================================================================================\n",
      "char_input (InputLayer)         [(None, 1)]          0                                            \n",
      "__________________________________________________________________________________________________\n",
      "token_input (InputLayer)        [(None,)]            0                                            \n",
      "__________________________________________________________________________________________________\n",
      "char_vectorizer (TextVectorizat (None, 290)          0           char_input[0][0]                 \n",
      "__________________________________________________________________________________________________\n",
      "universal_sentence_encoder (Ker (None, 512)          256797824   token_input[0][0]                \n",
      "__________________________________________________________________________________________________\n",
      "char_embedding (Embedding)      (None, 290, 25)      700         char_vectorizer[1][0]            \n",
      "__________________________________________________________________________________________________\n",
      "dense_4 (Dense)                 (None, 128)          65664       universal_sentence_encoder[1][0] \n",
      "__________________________________________________________________________________________________\n",
      "bidirectional (Bidirectional)   (None, 48)           9600        char_embedding[1][0]             \n",
      "__________________________________________________________________________________________________\n",
      "token_char_hybrid (Concatenate) (None, 176)          0           dense_4[0][0]                    \n",
      "                                                                 bidirectional[0][0]              \n",
      "__________________________________________________________________________________________________\n",
      "dropout (Dropout)               (None, 176)          0           token_char_hybrid[0][0]          \n",
      "__________________________________________________________________________________________________\n",
      "dense_5 (Dense)                 (None, 128)          22656       dropout[0][0]                    \n",
      "__________________________________________________________________________________________________\n",
      "dropout_1 (Dropout)             (None, 128)          0           dense_5[0][0]                    \n",
      "__________________________________________________________________________________________________\n",
      "dense_6 (Dense)                 (None, 5)            645         dropout_1[0][0]                  \n",
      "==================================================================================================\n",
      "Total params: 256,897,089\n",
      "Trainable params: 99,265\n",
      "Non-trainable params: 256,797,824\n",
      "__________________________________________________________________________________________________\n"
     ]
    }
   ],
   "source": [
    "# Get summary of model\n",
    "model_4.summary()"
   ]
  },
  {
   "cell_type": "code",
   "execution_count": 74,
   "id": "industrial-zimbabwe",
   "metadata": {},
   "outputs": [
    {
     "data": {
      "image/png": "[encoded data removed]",
      "text/plain": [
       "<IPython.core.display.Image object>"
      ]
     },
     "execution_count": 74,
     "metadata": {},
     "output_type": "execute_result"
    }
   ],
   "source": [
    "# Plot hybrid model\n",
    "from tensorflow.keras.utils import plot_model\n",
    "plot_model(model_4)"
   ]
  },
  {
   "cell_type": "code",
   "execution_count": 73,
   "id": "brilliant-sympathy",
   "metadata": {},
   "outputs": [],
   "source": [
    "# Compiel model\n",
    "model_4.compile(optimizer=\"adam\",\n",
    "                loss=\"categorical_crossentropy\",\n",
    "                metrics=[\"accuracy\"])"
   ]
  },
  {
   "cell_type": "code",
   "execution_count": 82,
   "id": "complex-testament",
   "metadata": {},
   "outputs": [
    {
     "name": "stdout",
     "output_type": "stream",
     "text": [
      "Epoch 1/3\n",
      "562/562 [==============================] - 104s 175ms/step - loss: 1.1688 - accuracy: 0.5208 - val_loss: 0.7820 - val_accuracy: 0.7031\n",
      "Epoch 2/3\n",
      "562/562 [==============================] - 83s 148ms/step - loss: 0.8112 - accuracy: 0.6894 - val_loss: 0.7177 - val_accuracy: 0.7277\n",
      "Epoch 3/3\n",
      "562/562 [==============================] - 82s 146ms/step - loss: 0.7780 - accuracy: 0.6976 - val_loss: 0.6990 - val_accuracy: 0.7334\n"
     ]
    }
   ],
   "source": [
    "# Fit model\n",
    "history_model_4_char_token_embed = model_4.fit(train_char_token_dataset,\n",
    "                                               epochs=3,\n",
    "                                               steps_per_epoch=int(0.1*len(train_char_token_dataset)),\n",
    "                                               validation_data=val_char_token_dataset,\n",
    "                                               validation_steps=int(0.1*len(val_char_token_dataset)))"
   ]
  },
  {
   "cell_type": "code",
   "execution_count": 83,
   "id": "sudden-blink",
   "metadata": {},
   "outputs": [
    {
     "name": "stdout",
     "output_type": "stream",
     "text": [
      "945/945 [==============================] - 24s 26ms/step - loss: 0.7029 - accuracy: 0.7314\n"
     ]
    },
    {
     "data": {
      "text/plain": [
       "[0.7028898000717163, 0.731431245803833]"
      ]
     },
     "execution_count": 83,
     "metadata": {},
     "output_type": "execute_result"
    }
   ],
   "source": [
    "# Evaluate on model\n",
    "model_4.evaluate(val_char_token_dataset)"
   ]
  },
  {
   "cell_type": "code",
   "execution_count": 84,
   "id": "fuzzy-cattle",
   "metadata": {},
   "outputs": [
    {
     "data": {
      "text/plain": [
       "{'accuracy': 73.14312193830266,\n",
       " 'precision': 0.7314668903463841,\n",
       " 'recall': 0.7314312193830266,\n",
       " 'f1': 0.7291509969186262}"
      ]
     },
     "execution_count": 84,
     "metadata": {},
     "output_type": "execute_result"
    }
   ],
   "source": [
    "# Predict on model and calculate results\n",
    "pred_probs_model_4 = model_4.predict(val_char_token_dataset)\n",
    "preds_model_4 = tf.argmax(pred_probs_model_4, axis=1)\n",
    "results_model_4 = calculate_results(val_labels_encoded, preds_model_4)\n",
    "results_model_4"
   ]
  },
  {
   "cell_type": "markdown",
   "id": "every-buying",
   "metadata": {},
   "source": [
    "## Model 5: Character + Token + Positional (Tribrid) Embedding Layer"
   ]
  },
  {
   "cell_type": "code",
   "execution_count": 85,
   "id": "south-discount",
   "metadata": {},
   "outputs": [
    {
     "data": {
      "text/html": [
       "<div>\n",
       "<style scoped>\n",
       "    .dataframe tbody tr th:only-of-type {\n",
       "        vertical-align: middle;\n",
       "    }\n",
       "\n",
       "    .dataframe tbody tr th {\n",
       "        vertical-align: top;\n",
       "    }\n",
       "\n",
       "    .dataframe thead th {\n",
       "        text-align: right;\n",
       "    }\n",
       "</style>\n",
       "<table border=\"1\" class=\"dataframe\">\n",
       "  <thead>\n",
       "    <tr style=\"text-align: right;\">\n",
       "      <th></th>\n",
       "      <th>target</th>\n",
       "      <th>text</th>\n",
       "      <th>line_number</th>\n",
       "      <th>total_lines</th>\n",
       "    </tr>\n",
       "  </thead>\n",
       "  <tbody>\n",
       "    <tr>\n",
       "      <th>0</th>\n",
       "      <td>OBJECTIVE</td>\n",
       "      <td>to investigate the efficacy of @ weeks of dail...</td>\n",
       "      <td>0</td>\n",
       "      <td>11</td>\n",
       "    </tr>\n",
       "    <tr>\n",
       "      <th>1</th>\n",
       "      <td>METHODS</td>\n",
       "      <td>a total of @ patients with primary knee oa wer...</td>\n",
       "      <td>1</td>\n",
       "      <td>11</td>\n",
       "    </tr>\n",
       "    <tr>\n",
       "      <th>2</th>\n",
       "      <td>METHODS</td>\n",
       "      <td>outcome measures included pain reduction and i...</td>\n",
       "      <td>2</td>\n",
       "      <td>11</td>\n",
       "    </tr>\n",
       "    <tr>\n",
       "      <th>3</th>\n",
       "      <td>METHODS</td>\n",
       "      <td>pain was assessed using the visual analog pain...</td>\n",
       "      <td>3</td>\n",
       "      <td>11</td>\n",
       "    </tr>\n",
       "    <tr>\n",
       "      <th>4</th>\n",
       "      <td>METHODS</td>\n",
       "      <td>secondary outcome measures included the wester...</td>\n",
       "      <td>4</td>\n",
       "      <td>11</td>\n",
       "    </tr>\n",
       "  </tbody>\n",
       "</table>\n",
       "</div>"
      ],
      "text/plain": [
       "      target                                               text  line_number  \\\n",
       "0  OBJECTIVE  to investigate the efficacy of @ weeks of dail...            0   \n",
       "1    METHODS  a total of @ patients with primary knee oa wer...            1   \n",
       "2    METHODS  outcome measures included pain reduction and i...            2   \n",
       "3    METHODS  pain was assessed using the visual analog pain...            3   \n",
       "4    METHODS  secondary outcome measures included the wester...            4   \n",
       "\n",
       "   total_lines  \n",
       "0           11  \n",
       "1           11  \n",
       "2           11  \n",
       "3           11  \n",
       "4           11  "
      ]
     },
     "execution_count": 85,
     "metadata": {},
     "output_type": "execute_result"
    }
   ],
   "source": [
    "train_df.head()"
   ]
  },
  {
   "cell_type": "markdown",
   "id": "dutch-clinic",
   "metadata": {},
   "source": [
    "### Create Postional Embeddings"
   ]
  },
  {
   "cell_type": "code",
   "execution_count": 86,
   "id": "banned-finance",
   "metadata": {},
   "outputs": [
    {
     "data": {
      "text/plain": [
       "0     15000\n",
       "1     15000\n",
       "2     15000\n",
       "3     15000\n",
       "4     14992\n",
       "5     14949\n",
       "6     14758\n",
       "7     14279\n",
       "8     13346\n",
       "9     11981\n",
       "10    10041\n",
       "11     7892\n",
       "12     5853\n",
       "13     4152\n",
       "14     2835\n",
       "15     1861\n",
       "16     1188\n",
       "17      751\n",
       "18      462\n",
       "19      286\n",
       "20      162\n",
       "21      101\n",
       "22       66\n",
       "23       33\n",
       "24       22\n",
       "25       14\n",
       "26        7\n",
       "27        4\n",
       "28        3\n",
       "29        1\n",
       "30        1\n",
       "Name: line_number, dtype: int64"
      ]
     },
     "execution_count": 86,
     "metadata": {},
     "output_type": "execute_result"
    }
   ],
   "source": [
    "# How many different line numbers are there?\n",
    "train_df[\"line_number\"].value_counts()"
   ]
  },
  {
   "cell_type": "code",
   "execution_count": 87,
   "id": "floral-poverty",
   "metadata": {},
   "outputs": [
    {
     "data": {
      "text/plain": [
       "<AxesSubplot:ylabel='Frequency'>"
      ]
     },
     "execution_count": 87,
     "metadata": {},
     "output_type": "execute_result"
    },
    {
     "data": {
      "image/png": "[encoded data removed]",
      "text/plain": [
       "<Figure size 432x288 with 1 Axes>"
      ]
     },
     "metadata": {
      "needs_background": "light"
     },
     "output_type": "display_data"
    }
   ],
   "source": [
    "# Check distribution of \"line_number\" column\n",
    "train_df.line_number.plot.hist()"
   ]
  },
  {
   "cell_type": "code",
   "execution_count": 108,
   "id": "likely-ethiopia",
   "metadata": {},
   "outputs": [
    {
     "data": {
      "text/plain": [
       "(<tf.Tensor: shape=(10, 15), dtype=float32, numpy=\n",
       " array([[1., 0., 0., 0., 0., 0., 0., 0., 0., 0., 0., 0., 0., 0., 0.],\n",
       "        [0., 1., 0., 0., 0., 0., 0., 0., 0., 0., 0., 0., 0., 0., 0.],\n",
       "        [0., 0., 1., 0., 0., 0., 0., 0., 0., 0., 0., 0., 0., 0., 0.],\n",
       "        [0., 0., 0., 1., 0., 0., 0., 0., 0., 0., 0., 0., 0., 0., 0.],\n",
       "        [0., 0., 0., 0., 1., 0., 0., 0., 0., 0., 0., 0., 0., 0., 0.],\n",
       "        [0., 0., 0., 0., 0., 1., 0., 0., 0., 0., 0., 0., 0., 0., 0.],\n",
       "        [0., 0., 0., 0., 0., 0., 1., 0., 0., 0., 0., 0., 0., 0., 0.],\n",
       "        [0., 0., 0., 0., 0., 0., 0., 1., 0., 0., 0., 0., 0., 0., 0.],\n",
       "        [0., 0., 0., 0., 0., 0., 0., 0., 1., 0., 0., 0., 0., 0., 0.],\n",
       "        [0., 0., 0., 0., 0., 0., 0., 0., 0., 1., 0., 0., 0., 0., 0.]],\n",
       "       dtype=float32)>,\n",
       " TensorShape([180040, 15]))"
      ]
     },
     "execution_count": 108,
     "metadata": {},
     "output_type": "execute_result"
    }
   ],
   "source": [
    "# Create one-hot encded tensors of \"line_number\" feature\n",
    "train_line_numbers_one_hot = tf.one_hot(train_df[\"line_number\"].to_numpy(), depth=15)\n",
    "val_line_numbers_one_hot = tf.one_hot(val_df[\"line_number\"].to_numpy(), depth=15)\n",
    "test_line_numbers_one_hot = tf.one_hot(test_df[\"line_number\"].to_numpy(), depth=15)\n",
    "train_line_numbers_one_hot[:10], train_line_numbers_one_hot.shape"
   ]
  },
  {
   "cell_type": "code",
   "execution_count": 89,
   "id": "according-award",
   "metadata": {},
   "outputs": [
    {
     "data": {
      "text/plain": [
       "11    24468\n",
       "10    23639\n",
       "12    22113\n",
       "9     19400\n",
       "13    18438\n",
       "14    14610\n",
       "8     12285\n",
       "15    10768\n",
       "7      7464\n",
       "16     7429\n",
       "17     5202\n",
       "6      3353\n",
       "18     3344\n",
       "19     2480\n",
       "20     1281\n",
       "5      1146\n",
       "21      770\n",
       "22      759\n",
       "23      264\n",
       "4       215\n",
       "24      200\n",
       "25      182\n",
       "26       81\n",
       "28       58\n",
       "3        32\n",
       "30       31\n",
       "27       28\n",
       "Name: total_lines, dtype: int64"
      ]
     },
     "execution_count": 89,
     "metadata": {},
     "output_type": "execute_result"
    }
   ],
   "source": [
    "# How many different numbers of lines are there?\n",
    "train_df[\"total_lines\"].value_counts()"
   ]
  },
  {
   "cell_type": "code",
   "execution_count": 90,
   "id": "spread-celebration",
   "metadata": {},
   "outputs": [
    {
     "data": {
      "text/plain": [
       "<AxesSubplot:ylabel='Frequency'>"
      ]
     },
     "execution_count": 90,
     "metadata": {},
     "output_type": "execute_result"
    },
    {
     "data": {
      "image/png": "[encoded data removed]",
      "text/plain": [
       "<Figure size 432x288 with 1 Axes>"
      ]
     },
     "metadata": {
      "needs_background": "light"
     },
     "output_type": "display_data"
    }
   ],
   "source": [
    "# Plot distribution of total lines\n",
    "train_df.total_lines.plot.hist()"
   ]
  },
  {
   "cell_type": "code",
   "execution_count": 92,
   "id": "fleet-muscle",
   "metadata": {},
   "outputs": [
    {
     "data": {
      "text/plain": [
       "20.0"
      ]
     },
     "execution_count": 92,
     "metadata": {},
     "output_type": "execute_result"
    }
   ],
   "source": [
    "# Check coverage of a \"total_lines\" value of 20\n",
    "np.percentile(train_df.total_lines, 98)"
   ]
  },
  {
   "cell_type": "code",
   "execution_count": 93,
   "id": "periodic-ceramic",
   "metadata": {},
   "outputs": [
    {
     "data": {
      "text/plain": [
       "(<tf.Tensor: shape=(10, 20), dtype=float32, numpy=\n",
       " array([[0., 0., 0., 0., 0., 0., 0., 0., 0., 0., 0., 1., 0., 0., 0., 0.,\n",
       "         0., 0., 0., 0.],\n",
       "        [0., 0., 0., 0., 0., 0., 0., 0., 0., 0., 0., 1., 0., 0., 0., 0.,\n",
       "         0., 0., 0., 0.],\n",
       "        [0., 0., 0., 0., 0., 0., 0., 0., 0., 0., 0., 1., 0., 0., 0., 0.,\n",
       "         0., 0., 0., 0.],\n",
       "        [0., 0., 0., 0., 0., 0., 0., 0., 0., 0., 0., 1., 0., 0., 0., 0.,\n",
       "         0., 0., 0., 0.],\n",
       "        [0., 0., 0., 0., 0., 0., 0., 0., 0., 0., 0., 1., 0., 0., 0., 0.,\n",
       "         0., 0., 0., 0.],\n",
       "        [0., 0., 0., 0., 0., 0., 0., 0., 0., 0., 0., 1., 0., 0., 0., 0.,\n",
       "         0., 0., 0., 0.],\n",
       "        [0., 0., 0., 0., 0., 0., 0., 0., 0., 0., 0., 1., 0., 0., 0., 0.,\n",
       "         0., 0., 0., 0.],\n",
       "        [0., 0., 0., 0., 0., 0., 0., 0., 0., 0., 0., 1., 0., 0., 0., 0.,\n",
       "         0., 0., 0., 0.],\n",
       "        [0., 0., 0., 0., 0., 0., 0., 0., 0., 0., 0., 1., 0., 0., 0., 0.,\n",
       "         0., 0., 0., 0.],\n",
       "        [0., 0., 0., 0., 0., 0., 0., 0., 0., 0., 0., 1., 0., 0., 0., 0.,\n",
       "         0., 0., 0., 0.]], dtype=float32)>,\n",
       " TensorShape([180040, 15]))"
      ]
     },
     "execution_count": 93,
     "metadata": {},
     "output_type": "execute_result"
    }
   ],
   "source": [
    "# Create one-hot encded tensors of \"total_lines\" feature\n",
    "train_total_lines_one_hot = tf.one_hot(train_df[\"total_lines\"].to_numpy(), depth=20)\n",
    "val_total_lines_one_hot = tf.one_hot(val_df[\"total_lines\"].to_numpy(), depth=20)\n",
    "test_total_lines_one_hot = tf.one_hot(test_df[\"total_lines\"].to_numpy(), depth=20)\n",
    "train_total_lines_one_hot[:10], train_line_numbers_one_hot.shape"
   ]
  },
  {
   "cell_type": "code",
   "execution_count": 96,
   "id": "occupational-river",
   "metadata": {},
   "outputs": [],
   "source": [
    "# Set up token inputs/model\n",
    "token_inputs = layers.Input(shape=[], dtype=\"string\", name=\"token_inputs\")\n",
    "token_embeddings = tf_hub_embedding_layer(token_inputs)\n",
    "token_outputs = layers.Dense(num_classes, activation=\"relu\")(token_embeddings)\n",
    "token_model = tf.keras.Model(token_inputs, token_outputs)\n",
    "\n",
    "# Set up character inputs/model\n",
    "char_inputs = layers.Input(shape=(1,), dtype=\"string\", name=\"char_inputs\")\n",
    "char_vectors = char_vectorizer(char_inputs)\n",
    "char_embeddings = char_embed(char_vectors)\n",
    "char_bi_lstm = layers.Bidirectional(layers.LSTM(24))(char_embeddings)\n",
    "char_model = tf.keras.Model(char_inputs, char_bi_lstm)\n",
    "\n",
    "# Set up line numbers inputs/model\n",
    "line_number_inputs = layers.Input(shape=(15,) , dtype=tf.float32, name=\"line_number_inputs\")\n",
    "x = layers.Dense(32, activation=\"relu\")(line_number_inputs)\n",
    "line_number_model = tf.keras.Model(line_number_inputs, x)\n",
    "\n",
    "# Set up total lines inputs/model\n",
    "total_lines_inputs = layers.Input(shape=(20,), dtype=tf.float32, name=\"total_lines_inputs\")\n",
    "y = layers.Dense(32, activation=\"relu\")(total_lines_inputs)\n",
    "total_lines_model = tf.keras.Model(total_lines_inputs, y)\n",
    "\n",
    "# Concatenate token char inputs/models\n",
    "combined_embeddings = layers.Concatenate(name=\"char_token_hybrid_embedding\")([token_model.output,\n",
    "                                                                                          char_model.output])\n",
    "z = layers.Dense(256, activation=\"relu\")(combined_embeddings)\n",
    "z = layers.Dropout(0.5)(z)\n",
    "\n",
    "# Combine positional embeddings with combined embeddings\n",
    "tribrid_embeddings = layers.Concatenate(name=\"char_token_positional_embedding\")([line_number_model.output,\n",
    "                                                                                 total_lines_model.output,\n",
    "                                                                                 z])\n",
    "\n",
    "# Create output layer\n",
    "output_layer = layers.Dense(num_classes, activation=\"softmax\", name=\"output_layer\")(tribrid_embeddings)\n",
    "\n",
    "# Create whole model\n",
    "model_5 = tf.keras.Model(inputs=[line_number_model.input,\n",
    "                                 total_lines_model.input,\n",
    "                                 token_model.input,\n",
    "                                 char_model.input],\n",
    "                         outputs=output_layer,\n",
    "                         name=\"model_5_tribrid_embedding_model\")"
   ]
  },
  {
   "cell_type": "code",
   "execution_count": 97,
   "id": "placed-platinum",
   "metadata": {},
   "outputs": [
    {
     "name": "stdout",
     "output_type": "stream",
     "text": [
      "Model: \"model_5_tribrid_embedding_model\"\n",
      "__________________________________________________________________________________________________\n",
      "Layer (type)                    Output Shape         Param #     Connected to                     \n",
      "==================================================================================================\n",
      "char_inputs (InputLayer)        [(None, 1)]          0                                            \n",
      "__________________________________________________________________________________________________\n",
      "token_inputs (InputLayer)       [(None,)]            0                                            \n",
      "__________________________________________________________________________________________________\n",
      "char_vectorizer (TextVectorizat (None, 290)          0           char_inputs[0][0]                \n",
      "__________________________________________________________________________________________________\n",
      "universal_sentence_encoder (Ker (None, 512)          256797824   token_inputs[0][0]               \n",
      "__________________________________________________________________________________________________\n",
      "char_embedding (Embedding)      (None, 290, 25)      700         char_vectorizer[4][0]            \n",
      "__________________________________________________________________________________________________\n",
      "dense_15 (Dense)                (None, 5)            2565        universal_sentence_encoder[4][0] \n",
      "__________________________________________________________________________________________________\n",
      "bidirectional_3 (Bidirectional) (None, 48)           9600        char_embedding[4][0]             \n",
      "__________________________________________________________________________________________________\n",
      "char_token_hybrid_embedding (Co (None, 53)           0           dense_15[0][0]                   \n",
      "                                                                 bidirectional_3[0][0]            \n",
      "__________________________________________________________________________________________________\n",
      "line_number_inputs (InputLayer) [(None, 15)]         0                                            \n",
      "__________________________________________________________________________________________________\n",
      "total_lines_inputs (InputLayer) [(None, 20)]         0                                            \n",
      "__________________________________________________________________________________________________\n",
      "dense_18 (Dense)                (None, 256)          13824       char_token_hybrid_embedding[0][0]\n",
      "__________________________________________________________________________________________________\n",
      "dense_16 (Dense)                (None, 32)           512         line_number_inputs[0][0]         \n",
      "__________________________________________________________________________________________________\n",
      "dense_17 (Dense)                (None, 32)           672         total_lines_inputs[0][0]         \n",
      "__________________________________________________________________________________________________\n",
      "dropout_4 (Dropout)             (None, 256)          0           dense_18[0][0]                   \n",
      "__________________________________________________________________________________________________\n",
      "char_token_positional_embedding (None, 320)          0           dense_16[0][0]                   \n",
      "                                                                 dense_17[0][0]                   \n",
      "                                                                 dropout_4[0][0]                  \n",
      "__________________________________________________________________________________________________\n",
      "output_layer (Dense)            (None, 5)            1605        char_token_positional_embedding[0\n",
      "==================================================================================================\n",
      "Total params: 256,827,302\n",
      "Trainable params: 29,478\n",
      "Non-trainable params: 256,797,824\n",
      "__________________________________________________________________________________________________\n"
     ]
    }
   ],
   "source": [
    "# Get summary of tribrid model\n",
    "model_5.summary()"
   ]
  },
  {
   "cell_type": "code",
   "execution_count": 98,
   "id": "incorrect-algeria",
   "metadata": {},
   "outputs": [
    {
     "data": {
      "image/png": "[encoded data removed]",
      "text/plain": [
       "<IPython.core.display.Image object>"
      ]
     },
     "execution_count": 98,
     "metadata": {},
     "output_type": "execute_result"
    }
   ],
   "source": [
    "# Visualize model\n",
    "plot_model(model_5)"
   ]
  },
  {
   "cell_type": "code",
   "execution_count": 99,
   "id": "detailed-railway",
   "metadata": {},
   "outputs": [],
   "source": [
    "# Compile model\n",
    "model_5.compile(optimizer=\"adam\",\n",
    "                loss=tf.keras.losses.CategoricalCrossentropy(label_smoothing=0.2),\n",
    "                metrics=[\"accuracy\"])"
   ]
  },
  {
   "cell_type": "code",
   "execution_count": 109,
   "id": "enhanced-genre",
   "metadata": {},
   "outputs": [
    {
     "data": {
      "text/plain": [
       "(<PrefetchDataset shapes: (((None, 15), (None, 20), (None,), (None,)), (None, 5)), types: ((tf.float32, tf.float32, tf.string, tf.string), tf.float64)>,\n",
       " <PrefetchDataset shapes: (((None, 15), (None, 20), (None,), (None,)), (None, 5)), types: ((tf.float32, tf.float32, tf.string, tf.string), tf.float64)>,\n",
       " <PrefetchDataset shapes: (((None, 15), (None, 20), (None,), (None,)), (None, 5)), types: ((tf.float32, tf.float32, tf.string, tf.string), tf.float64)>)"
      ]
     },
     "execution_count": 109,
     "metadata": {},
     "output_type": "execute_result"
    }
   ],
   "source": [
    "# Create training dataset for all four input types\n",
    "train_char_token_pos_data = tf.data.Dataset.from_tensor_slices((train_line_numbers_one_hot,\n",
    "                                                                train_total_lines_one_hot,\n",
    "                                                                train_sentences,\n",
    "                                                                train_chars))\n",
    "train_char_token_pos_labels = tf.data.Dataset.from_tensor_slices(train_labels_one_hot)\n",
    "train_char_token_pos_dataset = tf.data.Dataset.zip((train_char_token_pos_data, train_char_token_pos_labels))\n",
    "train_char_token_pos_dataset = train_char_token_pos_dataset.batch(32).prefetch(tf.data.AUTOTUNE)\n",
    "\n",
    "# Create validation dataset for all four input types\n",
    "val_char_token_pos_data = tf.data.Dataset.from_tensor_slices((val_line_numbers_one_hot,\n",
    "                                                              val_total_lines_one_hot,\n",
    "                                                              val_sentences,\n",
    "                                                              val_chars))\n",
    "val_char_token_pos_labels = tf.data.Dataset.from_tensor_slices(val_labels_one_hot)\n",
    "val_char_token_pos_dataset = tf.data.Dataset.zip((val_char_token_pos_data, val_char_token_pos_labels))\n",
    "val_char_token_pos_dataset = val_char_token_pos_dataset.batch(32).prefetch(tf.data.AUTOTUNE)\n",
    "\n",
    "# Create test dataset for all four input types\n",
    "test_char_token_pos_data = tf.data.Dataset.from_tensor_slices((test_line_numbers_one_hot,\n",
    "                                                                test_total_lines_one_hot,\n",
    "                                                                test_sentences,\n",
    "                                                                test_chars))\n",
    "test_char_token_pos_labels = tf.data.Dataset.from_tensor_slices(test_labels_one_hot)\n",
    "test_char_token_pos_dataset = tf.data.Dataset.zip((test_char_token_pos_data, test_char_token_pos_labels))\n",
    "test_char_token_pos_dataset = test_char_token_pos_dataset.batch(32).prefetch(tf.data.AUTOTUNE)\n",
    "\n",
    "# View datasets\n",
    "train_char_token_pos_dataset, val_char_token_pos_dataset, test_char_token_pos_dataset"
   ]
  },
  {
   "cell_type": "code",
   "execution_count": 115,
   "id": "boxed-decade",
   "metadata": {},
   "outputs": [
    {
     "name": "stdout",
     "output_type": "stream",
     "text": [
      "Epoch 1/3\n",
      "562/562 [==============================] - 81s 133ms/step - loss: 1.2938 - accuracy: 0.5622 - val_loss: 1.0052 - val_accuracy: 0.7866\n",
      "Epoch 2/3\n",
      "562/562 [==============================] - 74s 131ms/step - loss: 0.9975 - accuracy: 0.7916 - val_loss: 0.9731 - val_accuracy: 0.8075\n",
      "Epoch 3/3\n",
      "562/562 [==============================] - 73s 130ms/step - loss: 0.9809 - accuracy: 0.8029 - val_loss: 0.9651 - val_accuracy: 0.8191\n"
     ]
    }
   ],
   "source": [
    "# Fit model\n",
    "history_5_tribrid = model_5.fit(train_char_token_pos_dataset,\n",
    "                                epochs=3,\n",
    "                                steps_per_epoch=int(0.1*len(train_char_token_pos_dataset)),\n",
    "                                validation_data=val_char_token_pos_dataset,\n",
    "                                validation_steps=int(0.1*len(val_char_token_pos_dataset)))"
   ]
  },
  {
   "cell_type": "code",
   "execution_count": 118,
   "id": "dated-wildlife",
   "metadata": {},
   "outputs": [
    {
     "name": "stdout",
     "output_type": "stream",
     "text": [
      "945/945 [==============================] - 22s 24ms/step - loss: 0.9624 - accuracy: 0.8173\n"
     ]
    },
    {
     "data": {
      "text/plain": [
       "[0.9624291658401489, 0.8172580599784851]"
      ]
     },
     "execution_count": 118,
     "metadata": {},
     "output_type": "execute_result"
    }
   ],
   "source": [
    "# Evaluate model\n",
    "model_5.evaluate(val_char_token_pos_dataset)"
   ]
  },
  {
   "cell_type": "code",
   "execution_count": 119,
   "id": "differential-aquarium",
   "metadata": {},
   "outputs": [],
   "source": [
    "# Make predictions and calculate results\n",
    "pred_probs_model_5 = model_5.predict(val_char_token_pos_dataset)\n",
    "preds_model_5 = tf.argmax(pred_probs_model_5, axis=1)\n",
    "results_model_5 = calculate_results(val_labels_encoded, preds_model_5)"
   ]
  },
  {
   "cell_type": "code",
   "execution_count": 120,
   "id": "mighty-processing",
   "metadata": {},
   "outputs": [
    {
     "data": {
      "text/plain": [
       "{'accuracy': 81.72580431616576,\n",
       " 'precision': 0.8156777029223166,\n",
       " 'recall': 0.8172580431616576,\n",
       " 'f1': 0.8160738396534135}"
      ]
     },
     "execution_count": 120,
     "metadata": {},
     "output_type": "execute_result"
    }
   ],
   "source": [
    "results_model_5"
   ]
  },
  {
   "cell_type": "markdown",
   "id": "painted-handling",
   "metadata": {},
   "source": [
    "## Compare Model Results"
   ]
  },
  {
   "cell_type": "code",
   "execution_count": 122,
   "id": "fuzzy-witness",
   "metadata": {},
   "outputs": [
    {
     "data": {
      "text/html": [
       "<div>\n",
       "<style scoped>\n",
       "    .dataframe tbody tr th:only-of-type {\n",
       "        vertical-align: middle;\n",
       "    }\n",
       "\n",
       "    .dataframe tbody tr th {\n",
       "        vertical-align: top;\n",
       "    }\n",
       "\n",
       "    .dataframe thead th {\n",
       "        text-align: right;\n",
       "    }\n",
       "</style>\n",
       "<table border=\"1\" class=\"dataframe\">\n",
       "  <thead>\n",
       "    <tr style=\"text-align: right;\">\n",
       "      <th></th>\n",
       "      <th>accuracy</th>\n",
       "      <th>precision</th>\n",
       "      <th>recall</th>\n",
       "      <th>f1</th>\n",
       "    </tr>\n",
       "  </thead>\n",
       "  <tbody>\n",
       "    <tr>\n",
       "      <th>model_0_baseline</th>\n",
       "      <td>72.183238</td>\n",
       "      <td>0.718647</td>\n",
       "      <td>0.721832</td>\n",
       "      <td>0.698925</td>\n",
       "    </tr>\n",
       "    <tr>\n",
       "      <th>model_1_custome_token_embedding</th>\n",
       "      <td>78.770025</td>\n",
       "      <td>0.784929</td>\n",
       "      <td>0.787700</td>\n",
       "      <td>0.785584</td>\n",
       "    </tr>\n",
       "    <tr>\n",
       "      <th>model_2_pretrained_token_embedding</th>\n",
       "      <td>71.233285</td>\n",
       "      <td>0.712368</td>\n",
       "      <td>0.712333</td>\n",
       "      <td>0.709550</td>\n",
       "    </tr>\n",
       "    <tr>\n",
       "      <th>model_3_customer_char_embedding</th>\n",
       "      <td>65.801668</td>\n",
       "      <td>0.645488</td>\n",
       "      <td>0.658017</td>\n",
       "      <td>0.647923</td>\n",
       "    </tr>\n",
       "    <tr>\n",
       "      <th>model_4_hybrid_char_token_embedding</th>\n",
       "      <td>65.801668</td>\n",
       "      <td>0.645488</td>\n",
       "      <td>0.658017</td>\n",
       "      <td>0.647923</td>\n",
       "    </tr>\n",
       "    <tr>\n",
       "      <th>model_5_char_token_pos_embedding</th>\n",
       "      <td>81.725804</td>\n",
       "      <td>0.815678</td>\n",
       "      <td>0.817258</td>\n",
       "      <td>0.816074</td>\n",
       "    </tr>\n",
       "  </tbody>\n",
       "</table>\n",
       "</div>"
      ],
      "text/plain": [
       "                                      accuracy  precision    recall        f1\n",
       "model_0_baseline                     72.183238   0.718647  0.721832  0.698925\n",
       "model_1_custome_token_embedding      78.770025   0.784929  0.787700  0.785584\n",
       "model_2_pretrained_token_embedding   71.233285   0.712368  0.712333  0.709550\n",
       "model_3_customer_char_embedding      65.801668   0.645488  0.658017  0.647923\n",
       "model_4_hybrid_char_token_embedding  65.801668   0.645488  0.658017  0.647923\n",
       "model_5_char_token_pos_embedding     81.725804   0.815678  0.817258  0.816074"
      ]
     },
     "execution_count": 122,
     "metadata": {},
     "output_type": "execute_result"
    }
   ],
   "source": [
    "# Combine model results into a dataframe\n",
    "results_all_models = pd.DataFrame({\"model_0_baseline\": results_baseline,\n",
    "                                   \"model_1_custome_token_embedding\": results_model_1,\n",
    "                                   \"model_2_pretrained_token_embedding\": results_model_2,\n",
    "                                   \"model_3_customer_char_embedding\": results_model_3,\n",
    "                                   \"model_4_hybrid_char_token_embedding\": results_model_3,\n",
    "                                   \"model_5_char_token_pos_embedding\": results_model_5})\n",
    "results_all_models = results_all_models.transpose()\n",
    "results_all_models"
   ]
  },
  {
   "cell_type": "code",
   "execution_count": 123,
   "id": "willing-acquisition",
   "metadata": {},
   "outputs": [],
   "source": [
    "# Reduce accuracy to same scale\n",
    "results_all_models[\"accuracy\"] = results_all_models[\"accuracy\"]/100"
   ]
  },
  {
   "cell_type": "code",
   "execution_count": 124,
   "id": "excessive-young",
   "metadata": {},
   "outputs": [
    {
     "data": {
      "image/png": "[encoded data removed]",
      "text/plain": [
       "<Figure size 720x504 with 1 Axes>"
      ]
     },
     "metadata": {
      "needs_background": "light"
     },
     "output_type": "display_data"
    }
   ],
   "source": [
    "# Plot and compare all results\n",
    "results_all_models.plot(kind=\"bar\", figsize=(10, 7)).legend(bbox_to_anchor=(1.0, 1.0));"
   ]
  },
  {
   "cell_type": "code",
   "execution_count": 126,
   "id": "essential-radius",
   "metadata": {},
   "outputs": [
    {
     "data": {
      "image/png": "[encoded data removed]",
      "text/plain": [
       "<Figure size 720x504 with 1 Axes>"
      ]
     },
     "metadata": {
      "needs_background": "light"
     },
     "output_type": "display_data"
    }
   ],
   "source": [
    "# Sort model results by f1-score\n",
    "results_all_models.sort_values(\"f1\", ascending=True)[\"f1\"].plot(kind=\"bar\", figsize=(10, 7));"
   ]
  },
  {
   "cell_type": "markdown",
   "id": "unlimited-treasury",
   "metadata": {},
   "source": [
    "## Save Best Performing Model"
   ]
  },
  {
   "cell_type": "code",
   "execution_count": 127,
   "id": "civic-pilot",
   "metadata": {},
   "outputs": [
    {
     "name": "stderr",
     "output_type": "stream",
     "text": [
      "WARNING:absl:Found untraced functions such as lstm_cell_10_layer_call_fn, lstm_cell_10_layer_call_and_return_conditional_losses, lstm_cell_11_layer_call_fn, lstm_cell_11_layer_call_and_return_conditional_losses, lstm_cell_10_layer_call_fn while saving (showing 5 of 10). These functions will not be directly callable after loading.\n",
      "WARNING:absl:Found untraced functions such as lstm_cell_10_layer_call_fn, lstm_cell_10_layer_call_and_return_conditional_losses, lstm_cell_11_layer_call_fn, lstm_cell_11_layer_call_and_return_conditional_losses, lstm_cell_10_layer_call_fn while saving (showing 5 of 10). These functions will not be directly callable after loading.\n"
     ]
    },
    {
     "name": "stdout",
     "output_type": "stream",
     "text": [
      "INFO:tensorflow:Assets written to: skimlit_tribrid_model/assets\n"
     ]
    },
    {
     "name": "stderr",
     "output_type": "stream",
     "text": [
      "INFO:tensorflow:Assets written to: skimlit_tribrid_model/assets\n"
     ]
    }
   ],
   "source": [
    "# Save model 5\n",
    "model_5.save(\"skimlit_tribrid_model\")"
   ]
  },
  {
   "cell_type": "code",
   "execution_count": 130,
   "id": "convinced-syndrome",
   "metadata": {},
   "outputs": [],
   "source": [
    "# Load saved model 5\n",
    "loaded_model_5 = tf.keras.models.load_model(\"skimlit_tribrid_model\")"
   ]
  },
  {
   "cell_type": "code",
   "execution_count": 135,
   "id": "regular-concord",
   "metadata": {},
   "outputs": [],
   "source": [
    "# Make predictions with loaded model on test data\n",
    "pred_probs_loaded_model_5 = loaded_model_5.predict(test_char_token_pos_dataset)"
   ]
  },
  {
   "cell_type": "code",
   "execution_count": 137,
   "id": "professional-review",
   "metadata": {},
   "outputs": [
    {
     "data": {
      "text/plain": [
       "{'accuracy': 81.02538576406172,\n",
       " 'precision': 0.8088590594972546,\n",
       " 'recall': 0.8102538576406172,\n",
       " 'f1': 0.8089402204012928}"
      ]
     },
     "execution_count": 137,
     "metadata": {},
     "output_type": "execute_result"
    }
   ],
   "source": [
    "# Evaluate results\n",
    "preds_loaded_model_5 = tf.argmax(pred_probs_loaded_model_5, axis=1)\n",
    "results_loaded_model_5 = calculate_results(test_labels_encoded, preds_loaded_model_5)\n",
    "results_loaded_model_5"
   ]
  },
  {
   "cell_type": "code",
   "execution_count": null,
   "id": "hawaiian-soldier",
   "metadata": {},
   "outputs": [],
   "source": []
  }
 ],
 "metadata": {
  "kernelspec": {
   "display_name": "Python 3",
   "language": "python",
   "name": "python3"
  },
  "language_info": {
   "codemirror_mode": {
    "name": "ipython",
    "version": 3
   },
   "file_extension": ".py",
   "mimetype": "text/x-python",
   "name": "python",
   "nbconvert_exporter": "python",
   "pygments_lexer": "ipython3",
   "version": "3.7.3"
  }
 },
 "nbformat": 4,
 "nbformat_minor": 5
}
